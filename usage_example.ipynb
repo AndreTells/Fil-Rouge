{
 "cells": [
  {
   "cell_type": "markdown",
   "metadata": {},
   "source": [
    "## Reading Input"
   ]
  },
  {
   "cell_type": "code",
   "execution_count": 1,
   "metadata": {},
   "outputs": [],
   "source": [
    "import pandas as pd\n",
    "from proj_utils.input_interpreter import format_input"
   ]
  },
  {
   "cell_type": "code",
   "execution_count": 2,
   "metadata": {},
   "outputs": [],
   "source": [
    "customer_df = pd.read_excel('data/2_detail_table_customers.xls')\n",
    "deposit_df = pd.read_excel('data/4_detail_table_depots.xls')\n",
    "routes = customer_df['ROUTE_ID'].unique()"
   ]
  },
  {
   "cell_type": "code",
   "execution_count": 3,
   "metadata": {},
   "outputs": [],
   "source": [
    "from proj_utils.fake_input_generator import generator\n",
    "from proj_utils.input_interpreter import format_input\n",
    "\n",
    "import matplotlib.pyplot as plt\n",
    "\n",
    "from VRP.greedy_solutions import random_solution\n",
    "from VRP.modify_solution import combined_rand_modification\n",
    "from VRP.verify_solution import valid_path, calculate_path_distance, num_vehicles\n",
    "\n",
    "from proj_utils.path import print_path\n",
    "\n",
    "from solver_step import SolverStep"
   ]
  },
  {
   "cell_type": "markdown",
   "metadata": {},
   "source": [
    "# Simulated Annealing Solution"
   ]
  },
  {
   "cell_type": "code",
   "execution_count": 4,
   "metadata": {},
   "outputs": [],
   "source": [
    "import simulated_annealing.solver as SA # Simulated anealing solver"
   ]
  },
  {
   "cell_type": "code",
   "execution_count": 5,
   "metadata": {},
   "outputs": [],
   "source": [
    "chosen_route = routes[2]\n",
    "truck_volume_capacity = 30\n",
    "truck_weight_capacity = 20000\n",
    "truck_capacity = (truck_weight_capacity, truck_volume_capacity)\n",
    "dists, demand, points = format_input(chosen_route,customer_df,deposit_df)\n",
    "# dists, demand, points = generator(20)"
   ]
  },
  {
   "cell_type": "code",
   "execution_count": 6,
   "metadata": {},
   "outputs": [],
   "source": [
    "eval_function = lambda x: 0.3*num_vehicles(x) + calculate_path_distance(x, dists) if(valid_path(x,truck_capacity,demand)) else float('inf')\n",
    "solver_step = SA.generic_solver_factory(\n",
    "    lambda x: combined_rand_modification(x, len(points), dists),\n",
    "    eval_function,\n",
    "    )"
   ]
  },
  {
   "cell_type": "code",
   "execution_count": 13,
   "metadata": {},
   "outputs": [],
   "source": [
    "init_state = random_solution(dists, demand, truck_capacity)\n",
    "init_step = SolverStep(init_state, eval_function(init_state),100)"
   ]
  },
  {
   "cell_type": "code",
   "execution_count": 16,
   "metadata": {},
   "outputs": [],
   "source": [
    "x = []\n",
    "res = []\n",
    "c_step = init_step\n",
    "for i in range(1000):\n",
    "    x.append(i)\n",
    "    res.append(c_step.get_best_sol_value())\n",
    "    \n",
    "    _c_step = solver_step(c_step)"
   ]
  },
  {
   "cell_type": "code",
   "execution_count": 17,
   "metadata": {},
   "outputs": [
    {
     "data": {
      "image/png": "[encoded data removed]",
      "text/plain": [
       "<Figure size 640x480 with 1 Axes>"
      ]
     },
     "metadata": {},
     "output_type": "display_data"
    }
   ],
   "source": [
    "plt.plot(x,res)\n",
    "plt.xlabel(\"step\")\n",
    "plt.ylabel(\"path value\")\n",
    "plt.title(f\"Simulated Annealing for route {chosen_route}\")\n",
    "plt.savefig(f'Simulated Annealing for route {chosen_route}.png')"
   ]
  },
  {
   "cell_type": "code",
   "execution_count": 18,
   "metadata": {},
   "outputs": [
    {
     "name": "stdout",
     "output_type": "stream",
     "text": [
      "6.653011114271986\n"
     ]
    }
   ],
   "source": [
    "print(res[-1])"
   ]
  },
  {
   "cell_type": "markdown",
   "metadata": {},
   "source": [
    "# Taboo Search"
   ]
  },
  {
   "cell_type": "code",
   "execution_count": null,
   "metadata": {},
   "outputs": [],
   "source": [
    "import taboo_search.solver as TS"
   ]
  },
  {
   "cell_type": "code",
   "execution_count": null,
   "metadata": {},
   "outputs": [],
   "source": [
    "chosen_route = routes[2]\n",
    "truck_volume_capacity = 30\n",
    "truck_weight_capacity = 20000\n",
    "truck_capacity = (truck_weight_capacity, truck_volume_capacity)\n",
    "dists, demand, points = format_input(chosen_route,customer_df,deposit_df)\n",
    "\n",
    "#dists, demand, points = generator(20)"
   ]
  },
  {
   "cell_type": "code",
   "execution_count": null,
   "metadata": {},
   "outputs": [],
   "source": [
    "eval_function = lambda x: 0.3*num_vehicles(x) + calculate_path_distance(x, dists) if(valid_path(x,truck_capacity,demand)) else float('inf')\n",
    "taboo_list_size = 10\n",
    "solver_step = TS.taboo_search_solver_factory(\n",
    "    lambda x: combined_rand_modification(x, len(points)),\n",
    "    eval_function,\n",
    "    taboo_list_size\n",
    "    )"
   ]
  },
  {
   "cell_type": "code",
   "execution_count": null,
   "metadata": {},
   "outputs": [],
   "source": [
    "init_state = random_solution(dists, demand, truck_capacity)\n",
    "init_step = SolverStep(init_state, eval_function(init_state),100)"
   ]
  },
  {
   "cell_type": "code",
   "execution_count": null,
   "metadata": {},
   "outputs": [],
   "source": [
    "x = []\n",
    "res = []\n",
    "c_step = init_step\n",
    "for i in range(1000):\n",
    "    x.append(i)\n",
    "    res.append(c_step.get_best_sol_value())\n",
    "    \n",
    "    c_step = solver_step(c_step)"
   ]
  },
  {
   "cell_type": "code",
   "execution_count": null,
   "metadata": {},
   "outputs": [],
   "source": [
    "plt.plot(x,res)\n",
    "plt.xlabel(\"step\")\n",
    "plt.ylabel(\"path value\")\n",
    "plt.title(f\"Taboo Search for route {chosen_route}\")\n",
    "plt.savefig(f'Taboo Search for route {chosen_route}.png')"
   ]
  },
  {
   "cell_type": "code",
   "execution_count": null,
   "metadata": {},
   "outputs": [],
   "source": [
    "print(res[-1])"
   ]
  },
  {
   "cell_type": "markdown",
   "metadata": {},
   "source": [
    "# Q-learning"
   ]
  },
  {
   "cell_type": "code",
   "execution_count": null,
   "metadata": {},
   "outputs": [],
   "source": [
    "from VRP.greedy_solutions import nearest_neighbour_solution\n",
    "from VRP.modify_solution_routes import remove_smallest_route\n",
    "from VRP.modify_solution_routes import remove_random_route\n",
    "from VRP.modify_solution_routes import split_biggest_route\n",
    "from VRP.modify_solution_routes import split_random_route\n",
    "from VRP.modify_solution import rand_opt_n\n",
    "from VRP.modify_solution import rand_reverse_section\n",
    "from multi_agent.q_learning import *\n",
    "\n",
    "from proj_utils.fake_input_generator import generator\n",
    "\n",
    "capacity = (10,4)\n",
    "\n",
    "dists, demand, points = generator(20)\n",
    "path = nearest_neighbour_solution(dists, demand, (30,5))\n",
    "\n",
    "function_list = [\n",
    "    lambda x: rand_opt_n(x, len(dists)),\n",
    "    lambda x: remove_smallest_route(x,len(dists),dists),\n",
    "    lambda x: remove_random_route(x,len(dists),dists),\n",
    "    lambda x: split_biggest_route(x, len(dists), dists),\n",
    "    lambda x: split_random_route(x,len(dists), dists),\n",
    "    #lambda x: rand_reverse_section(x, len(dists))\n",
    "]\n",
    "\n",
    "q = q_learning_obj(0,init_q_learning_table(len(function_list)),len(function_list), 0.9, 0.1)\n",
    "eval_function = lambda x: calculate_path_distance(x, dists) if(valid_path(x,capacity,demand)) else float('inf')"
   ]
  },
  {
   "cell_type": "code",
   "execution_count": null,
   "metadata": {},
   "outputs": [],
   "source": [
    "import taboo_search.solver as TS\n",
    "taboo_list_size = 10\n",
    "solver_step = TS.taboo_search_solver_factory(\n",
    "    lambda x: q_learning_iteration(x,q,function_list,eval_function),\n",
    "    eval_function,\n",
    "    taboo_list_size\n",
    "    )"
   ]
  },
  {
   "cell_type": "code",
   "execution_count": null,
   "metadata": {},
   "outputs": [],
   "source": [
    "from solver_step import SolverStep\n",
    "init_state = nearest_neighbour_solution(dists, demand, capacity)\n",
    "init_step = SolverStep(init_state, eval_function(init_state),200)\n",
    "print(init_state)\n",
    "step_1 = solver_step(init_step)\n",
    "\n",
    "print(step_1.get_best_sol())\n",
    "print_path(points, init_step.get_best_sol())\n",
    "print_path(points, step_1.get_best_sol())"
   ]
  },
  {
   "cell_type": "code",
   "execution_count": null,
   "metadata": {},
   "outputs": [],
   "source": []
  }
 ],
 "metadata": {
  "kernelspec": {
   "display_name": "base",
   "language": "python",
   "name": "python3"
  },
  "language_info": {
   "codemirror_mode": {
    "name": "ipython",
    "version": 3
   },
   "file_extension": ".py",
   "mimetype": "text/x-python",
   "name": "python",
   "nbconvert_exporter": "python",
   "pygments_lexer": "ipython3",
   "version": "3.11.5"
  }
 },
 "nbformat": 4,
 "nbformat_minor": 2
}
