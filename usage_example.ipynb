{
 "cells": [
  {
   "cell_type": "markdown",
   "metadata": {},
   "source": [
    "## Reading Input"
   ]
  },
  {
   "cell_type": "code",
   "execution_count": 1,
   "metadata": {},
   "outputs": [],
   "source": [
    "import pandas as pd\n",
    "from proj_utils.input_interpreter import format_input"
   ]
  },
  {
   "cell_type": "code",
   "execution_count": 2,
   "metadata": {},
   "outputs": [],
   "source": [
    "customer_df = pd.read_excel('data/2_detail_table_customers.xls')\n",
    "deposit_df = pd.read_excel('data/4_detail_table_depots.xls')\n",
    "routes = customer_df['ROUTE_ID'].unique()"
   ]
  },
  {
   "cell_type": "code",
   "execution_count": 3,
   "metadata": {},
   "outputs": [
    {
     "name": "stdout",
     "output_type": "stream",
     "text": [
      "[2946091 2922001 2939484 2958047 2970877 2990001 3005971 2604001 3016355\n",
      " 3027038 3044702]\n"
     ]
    }
   ],
   "source": [
    "print(routes)"
   ]
  },
  {
   "cell_type": "code",
   "execution_count": 4,
   "metadata": {},
   "outputs": [],
   "source": [
    "from proj_utils.fake_input_generator import generator\n",
    "from proj_utils.input_interpreter import format_input\n",
    "\n",
    "import matplotlib.pyplot as plt\n",
    "\n",
    "from VRP.greedy_solutions import nearest_neighbour_solution\n",
    "from VRP.modify_solution import combined_rand_modification\n",
    "from VRP.verify_solution import valid_path, calculate_path_distance\n",
    "\n",
    "from proj_utils.path import print_path\n",
    "\n",
    "from solver_step import SolverStep\n",
    "%matplotlib widget"
   ]
  },
  {
   "cell_type": "markdown",
   "metadata": {},
   "source": [
    "# Simulated Annealing Solution"
   ]
  },
  {
   "cell_type": "code",
   "execution_count": 5,
   "metadata": {},
   "outputs": [],
   "source": [
    "import simulated_annealing.solver as SA # Simulated anealing solver"
   ]
  },
  {
   "cell_type": "code",
   "execution_count": 6,
   "metadata": {},
   "outputs": [],
   "source": [
    "#dists, demand, points = format_input(routes[2],customer_df,deposit_df)\n",
    "dists, demand, points = generator(20)"
   ]
  },
  {
   "cell_type": "code",
   "execution_count": 7,
   "metadata": {},
   "outputs": [],
   "source": [
    "solver_step = SA.generic_solver_factory(\n",
    "    lambda x: combined_rand_modification(x, len(points)),\n",
    "    lambda x: calculate_path_distance(x, dists) if(valid_path(x,(30,20),demand)) else float('inf'),\n",
    "    )"
   ]
  },
  {
   "cell_type": "code",
   "execution_count": 8,
   "metadata": {},
   "outputs": [
    {
     "name": "stdout",
     "output_type": "stream",
     "text": [
      "[0, 1, 9, 14, 11, 18, 17, 7, 2, 8, 6, 15, 16, 13, 10, 3, 19, 5, 12, 4, 0]\n"
     ]
    }
   ],
   "source": [
    "init_state = nearest_neighbour_solution(dists, demand, (30,20))\n",
    "init_step = SolverStep(0,init_state,2)\n",
    "step_1 = solver_step(init_step)\n",
    "print(step_1.get_best_sol())"
   ]
  },
  {
   "cell_type": "code",
   "execution_count": 9,
   "metadata": {},
   "outputs": [
    {
     "name": "stdout",
     "output_type": "stream",
     "text": [
      "[0, 9, 1, 14, 6, 2, 8, 15, 16, 13, 10, 3, 17, 19, 7, 18, 11, 4, 12, 5, 0]\n"
     ]
    }
   ],
   "source": [
    "step_1.set_step_size(300)\n",
    "step_2 = solver_step(step_1)\n",
    "print(step_2.get_best_sol())"
   ]
  },
  {
   "cell_type": "markdown",
   "metadata": {},
   "source": [
    "# Taboo Search"
   ]
  },
  {
   "cell_type": "code",
   "execution_count": 10,
   "metadata": {},
   "outputs": [],
   "source": [
    "import taboo_search.solver as TS"
   ]
  },
  {
   "cell_type": "code",
   "execution_count": 11,
   "metadata": {},
   "outputs": [],
   "source": [
    "dists, demand, points = generator(20)"
   ]
  },
  {
   "cell_type": "code",
   "execution_count": 12,
   "metadata": {},
   "outputs": [],
   "source": [
    "taboo_list_size = 10\n",
    "solver_step = TS.taboo_search_solver_factory(\n",
    "    lambda x: combined_rand_modification(x, len(points)),\n",
    "    lambda x: calculate_path_distance(x, dists) if(valid_path(x,(30,20),demand)) else float('inf'),\n",
    "    taboo_list_size\n",
    "    )"
   ]
  },
  {
   "cell_type": "code",
   "execution_count": 13,
   "metadata": {},
   "outputs": [
    {
     "name": "stdout",
     "output_type": "stream",
     "text": [
      "[0, 1, 2, 14, 12, 16, 4, 9, 5, 8, 18, 13, 15, 3, 17, 10, 6, 19, 11, 7, 0]\n"
     ]
    }
   ],
   "source": [
    "init_state = nearest_neighbour_solution(dists, demand, (30,20))\n",
    "init_step = SolverStep(0,init_state,2)\n",
    "step_1 = solver_step(init_step)\n",
    "print(step_1.get_best_sol())"
   ]
  },
  {
   "cell_type": "code",
   "execution_count": 14,
   "metadata": {},
   "outputs": [
    {
     "name": "stdout",
     "output_type": "stream",
     "text": [
      "[0, 11, 7, 19, 13, 18, 5, 14, 9, 16, 4, 12, 2, 1, 3, 10, 17, 6, 15, 8, 0]\n"
     ]
    }
   ],
   "source": [
    "step_1.set_step_size(300)\n",
    "step_2 = solver_step(step_1)\n",
    "print(step_2.get_best_sol())"
   ]
  },
  {
   "cell_type": "code",
   "execution_count": null,
   "metadata": {},
   "outputs": [],
   "source": []
  }
 ],
 "metadata": {
  "kernelspec": {
   "display_name": "base",
   "language": "python",
   "name": "python3"
  },
  "language_info": {
   "codemirror_mode": {
    "name": "ipython",
    "version": 3
   },
   "file_extension": ".py",
   "mimetype": "text/x-python",
   "name": "python",
   "nbconvert_exporter": "python",
   "pygments_lexer": "ipython3",
   "version": "3.11.1"
  }
 },
 "nbformat": 4,
 "nbformat_minor": 2
}
