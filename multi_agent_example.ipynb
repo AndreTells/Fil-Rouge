{
 "cells": [
  {
   "cell_type": "code",
   "execution_count": 1,
   "metadata": {},
   "outputs": [],
   "source": [
    "from proj_utils.fake_input_generator import generator\n",
    "from proj_utils.input_interpreter import format_input\n",
    "\n",
    "import matplotlib.pyplot as plt\n",
    "\n",
    "from VRP.greedy_solutions import nearest_neighbour_solution\n",
    "from VRP.modify_solution import combined_rand_modification\n",
    "from VRP.verify_solution import valid_path, calculate_path_distance\n",
    "from VRP.compare_solutions import num_different_edges\n",
    "\n",
    "\n",
    "from proj_utils.path import print_path\n",
    "\n",
    "\n",
    "\n",
    "import simulated_annealing.solver as SA\n",
    "import taboo_search.solver as TS\n",
    "\n",
    "from multi_agent.solver_model import MultiAgentSolverModel\n",
    "from multi_agent.colaboration_types import ColaborationTypes\n",
    "from solver_step import SolverStep\n",
    "from multi_agent.solution_pool import solution_pool_simple\n",
    "%matplotlib widget"
   ]
  },
  {
   "cell_type": "code",
   "execution_count": 2,
   "metadata": {},
   "outputs": [],
   "source": [
    "truck_volume_capacity = 15\n",
    "truck_weight_capacity = 10\n",
    "truck_capacity = (truck_volume_capacity, truck_weight_capacity)\n",
    "dists, demand, points = generator(40)"
   ]
  },
  {
   "cell_type": "code",
   "execution_count": 3,
   "metadata": {},
   "outputs": [],
   "source": [
    "eval_function = lambda x: calculate_path_distance(x, dists) if(valid_path(x,truck_capacity,demand)) else float('inf')"
   ]
  },
  {
   "cell_type": "code",
   "execution_count": 4,
   "metadata": {},
   "outputs": [],
   "source": [
    "solver_step_SA = SA.generic_solver_factory(\n",
    "    lambda x: combined_rand_modification(x, len(points)),\n",
    "    eval_function,\n",
    "    )"
   ]
  },
  {
   "cell_type": "code",
   "execution_count": 5,
   "metadata": {},
   "outputs": [],
   "source": [
    "taboo_list_size = 10\n",
    "solver_step_TS = TS.taboo_search_solver_factory(\n",
    "    lambda x: combined_rand_modification(x, len(points)),\n",
    "    eval_function,\n",
    "    taboo_list_size\n",
    "    )"
   ]
  },
  {
   "cell_type": "code",
   "execution_count": 6,
   "metadata": {},
   "outputs": [],
   "source": [
    "init_state = nearest_neighbour_solution(dists, demand, truck_capacity)\n",
    "init_step = SolverStep(init_state,eval_function(init_state),100)\n",
    "step_function_list = [solver_step_SA, solver_step_TS]"
   ]
  },
  {
   "cell_type": "code",
   "execution_count": 7,
   "metadata": {},
   "outputs": [
    {
     "name": "stderr",
     "output_type": "stream",
     "text": [
      "/opt/miniconda3/lib/python3.12/site-packages/mesa/time.py:82: FutureWarning: The AgentSet is experimental. It may be changed or removed in any and all future releases, including patch releases.\n",
      "We would love to hear what you think about this new feature. If you have any thoughts, share them with us here: https://github.com/projectmesa/mesa/discussions/1919\n",
      "  self._agents: AgentSet = AgentSet(agents, model)\n"
     ]
    }
   ],
   "source": [
    "solution_pool = solution_pool_simple(num_different_edges, radious=2)\n",
    "sol_model = MultiAgentSolverModel(lambda : init_step, step_function_list, 2946091,20000,30,solution_pool,ColaborationTypes.FRIENDS)"
   ]
  },
  {
   "cell_type": "code",
   "execution_count": 8,
   "metadata": {},
   "outputs": [
    {
     "name": "stdout",
     "output_type": "stream",
     "text": [
      "population generated\n"
     ]
    }
   ],
   "source": [
    "for _ in range(100):\n",
    "    sol_model.step()"
   ]
  },
  {
   "cell_type": "code",
   "execution_count": 9,
   "metadata": {},
   "outputs": [
    {
     "name": "stdout",
     "output_type": "stream",
     "text": [
      "[0, 1, 29, 6, 28, 20, 14, 16, 38, 33, 13, 0, 3, 23, 25, 7, 26, 8, 17, 9, 24, 18, 0, 15, 37, 30, 12, 34, 32, 19, 10, 35, 31, 0, 11, 39, 21, 27, 5, 22, 36, 4, 2, 0]\n"
     ]
    }
   ],
   "source": [
    "sol_states = sol_model.datacollector.get_model_vars_dataframe()\n",
    "print(sol_states['TheGlobalBest'][0])"
   ]
  },
  {
   "cell_type": "code",
   "execution_count": null,
   "metadata": {},
   "outputs": [],
   "source": []
  }
 ],
 "metadata": {
  "kernelspec": {
   "display_name": "base",
   "language": "python",
   "name": "python3"
  },
  "language_info": {
   "codemirror_mode": {
    "name": "ipython",
    "version": 3
   },
   "file_extension": ".py",
   "mimetype": "text/x-python",
   "name": "python",
   "nbconvert_exporter": "python",
   "pygments_lexer": "ipython3",
   "version": "3.12.1"
  }
 },
 "nbformat": 4,
 "nbformat_minor": 2
}
