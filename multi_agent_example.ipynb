{
 "cells": [
  {
   "cell_type": "code",
   "execution_count": 1,
   "metadata": {},
   "outputs": [],
   "source": [
    "from proj_utils.fake_input_generator import generator\n",
    "from proj_utils.input_interpreter import format_input"
   ]
  },
  {
   "cell_type": "code",
   "execution_count": 2,
   "metadata": {},
   "outputs": [],
   "source": [
    "\n",
    "import matplotlib.pyplot as plt\n",
    "\n",
    "from VRP.greedy_solutions import nearest_neighbour_solution,random_solution\n",
    "from VRP.modify_solution import *\n",
    "from VRP.verify_solution import valid_path, calculate_path_distance, num_vehicles\n",
    "from VRP.compare_solutions import num_different_edges\n",
    "\n",
    "\n",
    "from proj_utils.path import print_path\n",
    "\n",
    "\n",
    "import pandas as pd\n",
    "import simulated_annealing.solver as SA\n",
    "import taboo_search.solver as TS\n",
    "\n",
    "from multi_agent.solver_model import MultiAgentSolverModel\n",
    "from multi_agent.colaboration_types import ColaborationTypes\n",
    "from solver_step import SolverStep\n",
    "from multi_agent.solution_pool import solution_pool_simple\n",
    "import pandas as pd"
   ]
  },
  {
   "cell_type": "code",
   "execution_count": 3,
   "metadata": {},
   "outputs": [],
   "source": [
    "customer_df = pd.read_excel('data/2_detail_table_customers.xls')\n",
    "deposit_df = pd.read_excel('data/4_detail_table_depots.xls')\n",
    "routes = customer_df['ROUTE_ID'].unique()\n",
    "chosen_route = routes[1]\n",
    "dists, demand, points = format_input(chosen_route,customer_df,deposit_df)\n",
    "\n",
    "truck_volume_capacity = 30\n",
    "truck_weight_capacity = 20000\n",
    "truck_capacity = (truck_weight_capacity, truck_volume_capacity)"
   ]
  },
  {
   "cell_type": "code",
   "execution_count": 4,
   "metadata": {},
   "outputs": [],
   "source": [
    "eval_function = lambda x: 0.3*num_vehicles(x) + calculate_path_distance(x, dists) if(valid_path(x,truck_capacity,demand)) else float('inf')"
   ]
  },
  {
   "cell_type": "code",
   "execution_count": 5,
   "metadata": {},
   "outputs": [],
   "source": [
    "def init_step_generator():\n",
    "    init_state = random_solution(dists, demand, truck_capacity)\n",
    "    init_step = SolverStep(init_state,eval_function(init_state),200)\n",
    "\n",
    "    return SolverStep(init_state,eval_function(init_state),200)"
   ]
  },
  {
   "cell_type": "markdown",
   "metadata": {},
   "source": [
    "# Multi Agents without Q-Learning"
   ]
  },
  {
   "cell_type": "code",
   "execution_count": 6,
   "metadata": {},
   "outputs": [],
   "source": [
    "neighbour_function = lambda x: combined_rand_modification(x, len(points), dists)"
   ]
  },
  {
   "cell_type": "code",
   "execution_count": 7,
   "metadata": {},
   "outputs": [],
   "source": [
    "solver_step_SA = SA.generic_solver_factory(\n",
    "    neighbour_function,\n",
    "    eval_function,\n",
    "    )"
   ]
  },
  {
   "cell_type": "code",
   "execution_count": 8,
   "metadata": {},
   "outputs": [],
   "source": [
    "taboo_list_size = 10\n",
    "solver_step_TS = TS.taboo_search_solver_factory(\n",
    "    neighbour_function,\n",
    "    eval_function,\n",
    "    taboo_list_size\n",
    "    )"
   ]
  },
  {
   "cell_type": "code",
   "execution_count": 9,
   "metadata": {},
   "outputs": [],
   "source": [
    "step_function_list = [solver_step_SA, solver_step_TS]\n",
    "agent_labels = ['simulated annealing', 'taboo search']"
   ]
  },
  {
   "cell_type": "code",
   "execution_count": 10,
   "metadata": {},
   "outputs": [
    {
     "name": "stderr",
     "output_type": "stream",
     "text": [
      "C:\\Users\\andre\\AppData\\Roaming\\Python\\Python311\\site-packages\\mesa\\time.py:82: FutureWarning: The AgentSet is experimental. It may be changed or removed in any and all future releases, including patch releases.\n",
      "We would love to hear what you think about this new feature. If you have any thoughts, share them with us here: https://github.com/projectmesa/mesa/discussions/1919\n",
      "  self._agents: AgentSet = AgentSet(agents, model)\n"
     ]
    },
    {
     "ename": "UnboundLocalError",
     "evalue": "cannot access local variable 'customersId' where it is not associated with a value",
     "output_type": "error",
     "traceback": [
      "\u001b[1;31m---------------------------------------------------------------------------\u001b[0m",
      "\u001b[1;31mUnboundLocalError\u001b[0m                         Traceback (most recent call last)",
      "Cell \u001b[1;32mIn[10], line 2\u001b[0m\n\u001b[0;32m      1\u001b[0m solution_pool \u001b[38;5;241m=\u001b[39m solution_pool_simple(num_different_edges, radious\u001b[38;5;241m=\u001b[39m\u001b[38;5;241m2\u001b[39m)\n\u001b[1;32m----> 2\u001b[0m sol_model \u001b[38;5;241m=\u001b[39m \u001b[43mMultiAgentSolverModel\u001b[49m\u001b[43m(\u001b[49m\n\u001b[0;32m      3\u001b[0m \u001b[43m    \u001b[49m\u001b[43minit_step_generator\u001b[49m\u001b[43m,\u001b[49m\n\u001b[0;32m      4\u001b[0m \u001b[43m     \u001b[49m\u001b[43mstep_function_list\u001b[49m\u001b[43m,\u001b[49m\n\u001b[0;32m      5\u001b[0m \u001b[43m     \u001b[49m\u001b[43mchosen_route\u001b[49m\u001b[43m,\u001b[49m\u001b[38;5;241;43m20000\u001b[39;49m\u001b[43m,\u001b[49m\u001b[38;5;241;43m30\u001b[39;49m\u001b[43m,\u001b[49m\n\u001b[0;32m      6\u001b[0m \u001b[43m     \u001b[49m\u001b[43msolution_pool\u001b[49m\u001b[43m,\u001b[49m\n\u001b[0;32m      7\u001b[0m \u001b[43m     \u001b[49m\u001b[38;5;241;43m10\u001b[39;49m\u001b[43m,\u001b[49m\n\u001b[0;32m      8\u001b[0m \u001b[43m     \u001b[49m\u001b[43mcolaboration_type\u001b[49m\u001b[43m \u001b[49m\u001b[38;5;241;43m=\u001b[39;49m\u001b[43m \u001b[49m\u001b[43mColaborationTypes\u001b[49m\u001b[38;5;241;43m.\u001b[39;49m\u001b[43mFRIENDS\u001b[49m\u001b[43m,\u001b[49m\n\u001b[0;32m      9\u001b[0m \u001b[43m     \u001b[49m\u001b[43magent_labels\u001b[49m\u001b[43m \u001b[49m\u001b[38;5;241;43m=\u001b[39;49m\u001b[43m \u001b[49m\u001b[43magent_labels\u001b[49m\u001b[43m,\u001b[49m\n\u001b[0;32m     10\u001b[0m \u001b[43m    \u001b[49m\u001b[43m)\u001b[49m\n",
      "File \u001b[1;32mc:\\Users\\andre\\Documents\\Materias\\ICO\\Fil-Rouge-ICO-2024\\multi_agent\\solver_model.py:47\u001b[0m, in \u001b[0;36mMultiAgentSolverModel.__init__\u001b[1;34m(self, rand_step_generator, step_function_list, route_id, truckCapacityKg, truckCapacityVol, solution_pool, GA_stepSize, colaboration_type, QLearn_q, QLearn_neighbor_function_list, QLearn_eval_function, agent_labels)\u001b[0m\n\u001b[0;32m     45\u001b[0m \u001b[38;5;66;03m# Genetic Agent Setup\u001b[39;00m\n\u001b[0;32m     46\u001b[0m GApopulationSize \u001b[38;5;241m=\u001b[39m \u001b[38;5;241m20\u001b[39m\n\u001b[1;32m---> 47\u001b[0m GA \u001b[38;5;241m=\u001b[39m \u001b[43mcreateGeneticAgent\u001b[49m\u001b[43m(\u001b[49m\n\u001b[0;32m     48\u001b[0m \u001b[43m    \u001b[49m\u001b[43mid_counter\u001b[49m\u001b[43m,\u001b[49m\n\u001b[0;32m     49\u001b[0m \u001b[43m    \u001b[49m\u001b[38;5;28;43mself\u001b[39;49m\u001b[43m,\u001b[49m\n\u001b[0;32m     50\u001b[0m \u001b[43m    \u001b[49m\u001b[43mroute_id\u001b[49m\u001b[43m,\u001b[49m\n\u001b[0;32m     51\u001b[0m \u001b[43m    \u001b[49m\u001b[43mGApopulationSize\u001b[49m\u001b[43m,\u001b[49m\n\u001b[0;32m     52\u001b[0m \u001b[43m    \u001b[49m\u001b[43mtruckCapacityKg\u001b[49m\u001b[43m,\u001b[49m\n\u001b[0;32m     53\u001b[0m \u001b[43m    \u001b[49m\u001b[43mtruckCapacityVol\u001b[49m\u001b[43m,\u001b[49m\n\u001b[0;32m     54\u001b[0m \u001b[43m    \u001b[49m\u001b[43mstep_size\u001b[49m\u001b[38;5;241;43m=\u001b[39;49m\u001b[43mGA_stepSize\u001b[49m\u001b[43m,\u001b[49m\n\u001b[0;32m     55\u001b[0m \u001b[43m    \u001b[49m\u001b[43mQLearn_q\u001b[49m\u001b[38;5;241;43m=\u001b[39;49m\u001b[43mQLearn_q\u001b[49m\u001b[43m,\u001b[49m\n\u001b[0;32m     56\u001b[0m \u001b[43m    \u001b[49m\u001b[43mQLearn_neighbor_function_list\u001b[49m\u001b[38;5;241;43m=\u001b[39;49m\u001b[43mQLearn_neighbor_function_list\u001b[49m\u001b[43m,\u001b[49m\n\u001b[0;32m     57\u001b[0m \u001b[43m    \u001b[49m\u001b[43mQLearn_eval_function\u001b[49m\u001b[38;5;241;43m=\u001b[39;49m\u001b[43mQLearn_eval_function\u001b[49m\u001b[43m,\u001b[49m\n\u001b[0;32m     58\u001b[0m \u001b[43m    \u001b[49m\u001b[43mcollaborative\u001b[49m\u001b[38;5;241;43m=\u001b[39;49m\u001b[43mcolaboration_type\u001b[49m\u001b[43m,\u001b[49m\n\u001b[0;32m     59\u001b[0m \u001b[43m\u001b[49m\u001b[43m)\u001b[49m\n\u001b[0;32m     61\u001b[0m \u001b[38;5;28mself\u001b[39m\u001b[38;5;241m.\u001b[39mschedule\u001b[38;5;241m.\u001b[39madd(GA)\n\u001b[0;32m     63\u001b[0m \u001b[38;5;28;01mdef\u001b[39;00m \u001b[38;5;21mcompute_global_best_state\u001b[39m(model):\n",
      "File \u001b[1;32mc:\\Users\\andre\\Documents\\Materias\\ICO\\Fil-Rouge-ICO-2024\\multi_agent\\GeneticAgent.py:198\u001b[0m, in \u001b[0;36mcreateGeneticAgent\u001b[1;34m(agentId, model, routeId, populationSize, truckCapacityKg, truckCapacityVol, step_size, collaborative, generationsToTolerateEnemies, QLearn_q, QLearn_neighbor_function_list, QLearn_eval_function)\u001b[0m\n\u001b[0;32m    196\u001b[0m depotsDf \u001b[38;5;241m=\u001b[39m pd\u001b[38;5;241m.\u001b[39mread_excel(\u001b[38;5;124m\"\u001b[39m\u001b[38;5;124mdata/4_detail_table_depots.xls\u001b[39m\u001b[38;5;124m\"\u001b[39m)\n\u001b[0;32m    197\u001b[0m trucksDf \u001b[38;5;241m=\u001b[39m pd\u001b[38;5;241m.\u001b[39mread_excel(\u001b[38;5;124m\"\u001b[39m\u001b[38;5;124mdata/3_detail_table_vehicles.xlsx\u001b[39m\u001b[38;5;124m\"\u001b[39m)\n\u001b[1;32m--> 198\u001b[0m numberOfTrucks, customers, cost, demand \u001b[38;5;241m=\u001b[39m \u001b[43mgetData\u001b[49m\u001b[43m(\u001b[49m\n\u001b[0;32m    199\u001b[0m \u001b[43m    \u001b[49m\u001b[43mrouteId\u001b[49m\u001b[43m,\u001b[49m\u001b[43m \u001b[49m\u001b[43mcustomersDf\u001b[49m\u001b[43m,\u001b[49m\u001b[43m \u001b[49m\u001b[43mdepotsDf\u001b[49m\u001b[43m,\u001b[49m\u001b[43m \u001b[49m\u001b[43mtrucksDf\u001b[49m\n\u001b[0;32m    200\u001b[0m \u001b[43m\u001b[49m\u001b[43m)\u001b[49m\n\u001b[0;32m    201\u001b[0m agent \u001b[38;5;241m=\u001b[39m GeneticAgent(\n\u001b[0;32m    202\u001b[0m     agentId,\n\u001b[0;32m    203\u001b[0m     model,\n\u001b[1;32m   (...)\u001b[0m\n\u001b[0;32m    217\u001b[0m     initialPopulation\u001b[38;5;241m=\u001b[39m\u001b[38;5;28;01mNone\u001b[39;00m,\n\u001b[0;32m    218\u001b[0m )\n\u001b[0;32m    219\u001b[0m \u001b[38;5;28;01mreturn\u001b[39;00m agent\n",
      "File \u001b[1;32mc:\\Users\\andre\\Documents\\Materias\\ICO\\Fil-Rouge-ICO-2024\\multi_agent\\genetic_algorithm\\loadData.py:68\u001b[0m, in \u001b[0;36mgetData\u001b[1;34m(route, customersDf, depotsDf, trucksDf)\u001b[0m\n\u001b[0;32m     60\u001b[0m numberOfTrucks \u001b[38;5;241m=\u001b[39m trucksDf[trucksDf[\u001b[38;5;124m\"\u001b[39m\u001b[38;5;124mROUTE_ID\u001b[39m\u001b[38;5;124m\"\u001b[39m] \u001b[38;5;241m==\u001b[39m route][\u001b[38;5;124m\"\u001b[39m\u001b[38;5;124mVEHICLE_NUMBER\u001b[39m\u001b[38;5;124m\"\u001b[39m]\u001b[38;5;241m.\u001b[39mmax()\n\u001b[0;32m     62\u001b[0m \u001b[38;5;66;03m# truckCapacityKg = 20000\u001b[39;00m\n\u001b[0;32m     63\u001b[0m \u001b[38;5;66;03m# truckCapacityVolume = 10\u001b[39;00m\n\u001b[0;32m     64\u001b[0m \n\u001b[0;32m     65\u001b[0m \u001b[38;5;66;03m# Getting id for each customer and then adding the starting node (depot). this will be used to calculate distance\u001b[39;00m\n\u001b[0;32m     66\u001b[0m \u001b[38;5;66;03m#customersId = list(C_df[\"CUSTOMER_NUMBER\"].unique())\u001b[39;00m\n\u001b[1;32m---> 68\u001b[0m customersId \u001b[38;5;241m=\u001b[39m \u001b[38;5;28mrange\u001b[39m(\u001b[38;5;241m1\u001b[39m,\u001b[38;5;28mlen\u001b[39m(\u001b[43mcustomersId\u001b[49m)\u001b[38;5;241m+\u001b[39m\u001b[38;5;241m1\u001b[39m)\n\u001b[0;32m     70\u001b[0m V \u001b[38;5;241m=\u001b[39m [\u001b[38;5;241m0\u001b[39m] \u001b[38;5;241m+\u001b[39m customersId\n\u001b[0;32m     72\u001b[0m \u001b[38;5;66;03m# Those represent the edges\u001b[39;00m\n",
      "\u001b[1;31mUnboundLocalError\u001b[0m: cannot access local variable 'customersId' where it is not associated with a value"
     ]
    }
   ],
   "source": [
    "solution_pool = solution_pool_simple(num_different_edges, radious=2)\n",
    "sol_model = MultiAgentSolverModel(\n",
    "    init_step_generator,\n",
    "     step_function_list,\n",
    "     chosen_route,20000,30,\n",
    "     solution_pool,\n",
    "     10,\n",
    "     colaboration_type = ColaborationTypes.FRIENDS,\n",
    "     agent_labels = agent_labels,\n",
    "    )"
   ]
  },
  {
   "cell_type": "code",
   "execution_count": 11,
   "metadata": {},
   "outputs": [
    {
     "name": "stdout",
     "output_type": "stream",
     "text": [
      "120\n"
     ]
    }
   ],
   "source": [
    "print(len(points))"
   ]
  },
  {
   "cell_type": "code",
   "execution_count": 12,
   "metadata": {},
   "outputs": [
    {
     "name": "stdout",
     "output_type": "stream",
     "text": [
      "population generated\n"
     ]
    }
   ],
   "source": [
    "for _ in range(1):\n",
    "    sol_model.step()"
   ]
  },
  {
   "cell_type": "code",
   "execution_count": null,
   "metadata": {},
   "outputs": [
    {
     "name": "stdout",
     "output_type": "stream",
     "text": [
      "[0, 54, 114, 24, 55, 75, 98, 81, 85, 103, 2, 88, 107, 110, 113, 92, 30, 41, 49, 51, 34, 31, 118, 47, 87, 8, 108, 28, 87, 50, 116, 117, 109, 100, 29, 104, 115, 32, 4, 52, 86, 27, 73, 71, 43, 93, 9, 57, 21, 4, 53, 6, 74, 5, 77, 82, 78, 44, 102, 4, 4, 4, 42, 13, 70, 33, 91, 119, 105, 111, 20, 112, 101, 83, 69, 95, 96, 48, 94, 0, 90, 66, 25, 67, 39, 40, 80, 38, 99, 35, 97, 46, 11, 14, 37, 16, 1, 17, 12, 18, 68, 56, 62, 36, 79, 15, 19, 45, 7, 76, 10, 26, 65, 3, 60, 106, 84, 72, 23, 22, 61, 59, 89, 63, 64, 58, 0]\n"
     ]
    }
   ],
   "source": [
    "sol_states = sol_model.datacollector.get_model_vars_dataframe()"
   ]
  },
  {
   "cell_type": "code",
   "execution_count": 13,
   "metadata": {},
   "outputs": [
    {
     "name": "stdout",
     "output_type": "stream",
     "text": [
      "                      agent label  \\\n",
      "AgentID Step                        \n",
      "0       1     simulated annealing   \n",
      "1       1            taboo search   \n",
      "2       1       genetic algorithm   \n",
      "\n",
      "                                                      agentBest  \\\n",
      "AgentID Step                                                      \n",
      "0       1     [0, 103, 2, 88, 17, 25, 66, 99, 35, 67, 38, 39...   \n",
      "1       1     [0, 103, 114, 2, 88, 52, 77, 90, 65, 45, 6, 54...   \n",
      "2       1     [0, 51, 81, 11, 6, 85, 84, 78, 119, 25, 27, 12...   \n",
      "\n",
      "              agentBestValue  \n",
      "AgentID Step                  \n",
      "0       1            29.4824  \n",
      "1       1            28.6974  \n",
      "2       1            35.4629  \n"
     ]
    }
   ],
   "source": [
    "agent_sol_states = sol_model.datacollector.get_agent_vars_dataframe().swaplevel(0, 1, axis=0)\n",
    "print(agent_sol_states)"
   ]
  },
  {
   "cell_type": "code",
   "execution_count": 72,
   "metadata": {},
   "outputs": [],
   "source": [
    "sa = agent_sol_states.loc[0][:]['agentBestValue']\n",
    "ts = agent_sol_states.loc[1][:]['agentBestValue']\n",
    "ga = agent_sol_states.loc[2][:]['agentBestValue']"
   ]
  },
  {
   "cell_type": "code",
   "execution_count": 74,
   "metadata": {},
   "outputs": [
    {
     "data": {
      "text/plain": [
       "Text(0.5, 1.0, 'Multi Agent 2922001 with friends collaboration')"
      ]
     },
     "execution_count": 74,
     "metadata": {},
     "output_type": "execute_result"
    },
    {
     "data": {
      "image/png": "[encoded data removed]",
      "text/plain": [
       "<Figure size 640x480 with 1 Axes>"
      ]
     },
     "metadata": {},
     "output_type": "display_data"
    }
   ],
   "source": [
    "x = [x for x in range(len(sa))]\n",
    "\n",
    "plt.plot(x,sa)\n",
    "plt.plot(x,ts)\n",
    "plt.plot(x,ga)\n",
    "plt.xlabel(\"step\")\n",
    "plt.ylabel(\"path value\")\n",
    "plt.title(f\"Multi Agent {chosen_route} with friends collaboration\")\n",
    "#plt.savefig(f'Taboo Search for route {chosen_route}.png')"
   ]
  },
  {
   "cell_type": "markdown",
   "metadata": {},
   "source": [
    "# Multi Agents with Q-Learning"
   ]
  },
  {
   "cell_type": "code",
   "execution_count": 14,
   "metadata": {},
   "outputs": [],
   "source": [
    "from q_learning import *\n",
    "\n",
    "function_list = [\n",
    "    lambda x:intra_route_swap(x,len(dists),dists),\n",
    "    lambda x:inter_route_swap(x,len(dists),dists),\n",
    "    lambda x:intra_route_shift(x,len(dists),dists),\n",
    "    lambda x:inter_route_shift(x,len(dists),dists),\n",
    "    lambda x:two_intra_route_shift(x,len(dists),dists),\n",
    "    lambda x:two_intra_route_swap(x,len(dists),dists),\n",
    "    lambda x:remove_smallest_route(x,len(dists),dists),\n",
    "    lambda x:remove_random_route(x,len(dists),dists),\n",
    "    lambda x:split_biggest_route(x,len(dists),dists),\n",
    "    lambda x:split_random_route(x,len(dists),dists)\n",
    "    ]\n",
    "\n",
    "q = q_learning_obj(0,init_q_learning_table(len(function_list)),len(function_list), 0.9, 0.1)\n",
    "neighbour_function = lambda x: q_learning_iteration(x,q,function_list,eval_function)"
   ]
  },
  {
   "cell_type": "code",
   "execution_count": 15,
   "metadata": {},
   "outputs": [],
   "source": [
    "solver_step_SA = SA.generic_solver_factory(\n",
    "    neighbour_function,\n",
    "    eval_function,\n",
    "    )"
   ]
  },
  {
   "cell_type": "code",
   "execution_count": 16,
   "metadata": {},
   "outputs": [],
   "source": [
    "taboo_list_size = 10\n",
    "solver_step_TS = TS.taboo_search_solver_factory(\n",
    "    neighbour_function,\n",
    "    eval_function,\n",
    "    taboo_list_size\n",
    "    )"
   ]
  },
  {
   "cell_type": "code",
   "execution_count": 17,
   "metadata": {},
   "outputs": [],
   "source": [
    "step_function_list = [solver_step_SA, solver_step_TS]\n",
    "agent_labels = ['simulated annealing', 'taboo search']"
   ]
  },
  {
   "cell_type": "code",
   "execution_count": 18,
   "metadata": {},
   "outputs": [],
   "source": [
    "solution_pool = solution_pool_simple(num_different_edges, radious=2)\n",
    "sol_model = MultiAgentSolverModel(\n",
    "    init_step_generator,\n",
    "     step_function_list,\n",
    "     chosen_route,20000,30,\n",
    "     solution_pool,\n",
    "     10,\n",
    "     colaboration_type = ColaborationTypes.FRIENDS,\n",
    "     QLearn_q = q,\n",
    "     QLearn_neighbor_function_list = function_list,\n",
    "     QLearn_eval_function = eval_function,\n",
    "     agent_labels = agent_labels\n",
    "     )"
   ]
  },
  {
   "cell_type": "code",
   "execution_count": 19,
   "metadata": {},
   "outputs": [
    {
     "name": "stdout",
     "output_type": "stream",
     "text": [
      "population generated\n"
     ]
    }
   ],
   "source": [
    "for _ in range(2):\n",
    "    sol_model.step()"
   ]
  }
 ],
 "metadata": {
  "kernelspec": {
   "display_name": "base",
   "language": "python",
   "name": "python3"
  },
  "language_info": {
   "codemirror_mode": {
    "name": "ipython",
    "version": 3
   },
   "file_extension": ".py",
   "mimetype": "text/x-python",
   "name": "python",
   "nbconvert_exporter": "python",
   "pygments_lexer": "ipython3",
   "version": "3.11.5"
  }
 },
 "nbformat": 4,
 "nbformat_minor": 2
}
