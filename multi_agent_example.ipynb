{
 "cells": [
  {
   "cell_type": "code",
   "execution_count": 1,
   "metadata": {},
   "outputs": [],
   "source": [
    "from proj_utils.fake_input_generator import generator\n",
    "from proj_utils.input_interpreter import format_input"
   ]
  },
  {
   "cell_type": "code",
   "execution_count": 2,
   "metadata": {},
   "outputs": [],
   "source": [
    "\n",
    "import matplotlib.pyplot as plt\n",
    "\n",
    "from VRP.greedy_solutions import nearest_neighbour_solution,random_solution\n",
    "from VRP.modify_solution import *\n",
    "from VRP.verify_solution import valid_path, calculate_path_distance\n",
    "from VRP.compare_solutions import num_different_edges\n",
    "\n",
    "\n",
    "from proj_utils.path import print_path\n",
    "\n",
    "\n",
    "import pandas as pd\n",
    "import simulated_annealing.solver as SA\n",
    "import taboo_search.solver as TS\n",
    "\n",
    "from multi_agent.solver_model import MultiAgentSolverModel\n",
    "from multi_agent.colaboration_types import ColaborationTypes\n",
    "from solver_step import SolverStep\n",
    "from multi_agent.solution_pool import solution_pool_simple\n",
    "import pandas as pd\n",
    "%matplotlib widget"
   ]
  },
  {
   "cell_type": "code",
   "execution_count": 3,
   "metadata": {},
   "outputs": [],
   "source": [
    "customer_df = pd.read_excel('data/2_detail_table_customers.xls')\n",
    "deposit_df = pd.read_excel('data/4_detail_table_depots.xls')\n",
    "routes = customer_df['ROUTE_ID'].unique()\n",
    "chosen_route = routes[2]\n",
    "dists, demand, points = format_input(chosen_route,customer_df,deposit_df)\n",
    "truck_volume_capacity = 30\n",
    "truck_weight_capacity = 20000\n",
    "truck_capacity = (truck_weight_capacity, truck_volume_capacity)\n",
    "\n",
    "#dists, demand, points = generator(40)"
   ]
  },
  {
   "cell_type": "code",
   "execution_count": 4,
   "metadata": {},
   "outputs": [],
   "source": [
    "customer_df = pd.read_excel('data/2_detail_table_customers.xls')\n",
    "deposit_df = pd.read_excel('data/4_detail_table_depots.xls')\n",
    "routes = customer_df['ROUTE_ID'].unique()\n",
    "dists, demand, points = format_input(routes[0],customer_df,deposit_df)"
   ]
  },
  {
   "cell_type": "code",
   "execution_count": 5,
   "metadata": {},
   "outputs": [
    {
     "data": {
      "text/plain": [
       "array([2946091, 2922001, 2939484, 2958047, 2970877, 2990001, 3005971,\n",
       "       2604001, 3016355, 3027038, 3044702])"
      ]
     },
     "execution_count": 5,
     "metadata": {},
     "output_type": "execute_result"
    }
   ],
   "source": [
    "routes"
   ]
  },
  {
   "cell_type": "code",
   "execution_count": 6,
   "metadata": {},
   "outputs": [
    {
     "name": "stdout",
     "output_type": "stream",
     "text": [
      "79\n"
     ]
    }
   ],
   "source": [
    "print(len(points))"
   ]
  },
  {
   "cell_type": "code",
   "execution_count": 7,
   "metadata": {},
   "outputs": [],
   "source": [
    "eval_function = lambda x: calculate_path_distance(x, dists) if(valid_path(x,truck_capacity,demand)) else float('inf')"
   ]
  },
  {
   "cell_type": "code",
   "execution_count": 27,
   "metadata": {},
   "outputs": [],
   "source": [
    "from q_learning import *\n",
    "\n",
    "function_list = [\n",
    "    lambda x:intra_route_swap(x,len(dists),dists),\n",
    "    lambda x:inter_route_swap(x,len(dists),dists),\n",
    "    lambda x:intra_route_shift(x,len(dists),dists),\n",
    "    lambda x:inter_route_shift(x,len(dists),dists),\n",
    "    lambda x:two_intra_route_shift(x,len(dists),dists),\n",
    "    lambda x:two_intra_route_swap(x,len(dists),dists),\n",
    "    lambda x:remove_smallest_route(x,len(dists),dists),\n",
    "    lambda x:remove_random_route(x,len(dists),dists),\n",
    "    lambda x:split_biggest_route(x,len(dists),dists),\n",
    "    lambda x:split_random_route(x,len(dists),dists)\n",
    "    ]\n",
    "\n",
    "q = q_learning_obj(0,init_q_learning_table(len(function_list)),len(function_list), 0.9, 0.1)\n",
    "\n",
    "#neighbour_function = lambda x: combined_rand_modification(x, len(points), dists)\n",
    "neighbour_function = lambda x: q_learning_iteration(x,q,function_list,eval_function)"
   ]
  },
  {
   "cell_type": "code",
   "execution_count": 39,
   "metadata": {},
   "outputs": [],
   "source": [
    "def genetic_algorithm_q_learning(solution, demandForCustomer, truckCapacityKg, truckCapacityVolume,q,function_list,eval_function):\n",
    "    print('here')\n",
    "    new_solution = q_learning_iteration(solution,q,function_list,eval_function)\n",
    "    if(not valid_path(new_solution)):\n",
    "        return solution\n",
    "\n",
    "    return new_solution\n"
   ]
  },
  {
   "cell_type": "code",
   "execution_count": 28,
   "metadata": {},
   "outputs": [],
   "source": [
    "solver_step_SA = SA.generic_solver_factory(\n",
    "    neighbour_function,\n",
    "    eval_function,\n",
    "    )"
   ]
  },
  {
   "cell_type": "code",
   "execution_count": 29,
   "metadata": {},
   "outputs": [],
   "source": [
    "taboo_list_size = 10\n",
    "solver_step_TS = TS.taboo_search_solver_factory(\n",
    "    neighbour_function,\n",
    "    eval_function,\n",
    "    taboo_list_size\n",
    "    )"
   ]
  },
  {
   "cell_type": "code",
   "execution_count": 30,
   "metadata": {},
   "outputs": [],
   "source": [
    "step_function_list = [solver_step_SA, solver_step_TS]\n",
    "agent_labels = ['simulated annealing', 'taboo search']"
   ]
  },
  {
   "cell_type": "code",
   "execution_count": 31,
   "metadata": {},
   "outputs": [],
   "source": [
    "init_state = random_solution(dists, demand, truck_capacity)\n",
    "init_step = SolverStep(init_state,eval_function(init_state),100)\n",
    "\n",
    "init_step_generator = lambda : SolverStep(random_solution(dists, demand, truck_capacity),eval_function(init_state),100)"
   ]
  },
  {
   "cell_type": "code",
   "execution_count": 40,
   "metadata": {},
   "outputs": [],
   "source": [
    "solution_pool = solution_pool_simple(num_different_edges, radious=2)\n",
    "sol_model = MultiAgentSolverModel(\n",
    "    init_step_generator,\n",
    "     step_function_list,\n",
    "     chosen_route,20000,30,\n",
    "     solution_pool,\n",
    "     ColaborationTypes.FRIENDS,\n",
    "     agent_labels = agent_labels,\n",
    "     )"
   ]
  },
  {
   "cell_type": "code",
   "execution_count": 47,
   "metadata": {},
   "outputs": [],
   "source": [
    "for _ in range(2):\n",
    "    sol_model.step()"
   ]
  },
  {
   "cell_type": "code",
   "execution_count": 45,
   "metadata": {},
   "outputs": [
    {
     "name": "stdout",
     "output_type": "stream",
     "text": [
      "                                       TheGlobalBest  TheGlobalBestValue\n",
      "0  [0, 1, 57, 17, 41, 66, 45, 68, 20, 60, 63, 48,...           30.882763\n",
      "1  [0, 47, 66, 54, 24, 28, 74, 58, 52, 74, 37, 67...           19.277172\n",
      "2  [0, 64, 67, 69, 56, 32, 55, 36, 37, 16, 7, 38,...           14.640011\n"
     ]
    }
   ],
   "source": [
    "sol_states = sol_model.datacollector.get_model_vars_dataframe()\n",
    "print(sol_states)"
   ]
  },
  {
   "cell_type": "code",
   "execution_count": 46,
   "metadata": {},
   "outputs": [
    {
     "name": "stdout",
     "output_type": "stream",
     "text": [
      "                      agent label  \\\n",
      "Step AgentID                        \n",
      "1    0        simulated annealing   \n",
      "     1               taboo search   \n",
      "     2          genetic algorithm   \n",
      "2    0        simulated annealing   \n",
      "     1               taboo search   \n",
      "     2          genetic algorithm   \n",
      "3    0        simulated annealing   \n",
      "     1               taboo search   \n",
      "     2          genetic algorithm   \n",
      "\n",
      "                                                      agentBest  \\\n",
      "Step AgentID                                                      \n",
      "1    0        [0, 49, 72, 10, 35, 47, 51, 53, 9, 40, 43, 18,...   \n",
      "     1        [0, 1, 57, 17, 41, 66, 45, 68, 20, 60, 63, 48,...   \n",
      "     2                                                     None   \n",
      "2    0        [0, 47, 66, 54, 24, 28, 74, 58, 52, 74, 37, 67...   \n",
      "     1        [0, 37, 7, 2, 45, 1, 68, 20, 60, 73, 59, 48, 1...   \n",
      "     2        [0, 35, 43, 27, 52, 4, 11, 24, 39, 62, 41, 45,...   \n",
      "3    0        [0, 47, 66, 54, 24, 28, 74, 58, 52, 74, 37, 67...   \n",
      "     1        [0, 64, 67, 69, 56, 32, 55, 36, 37, 16, 7, 38,...   \n",
      "     2        [0, 20, 52, 4, 11, 24, 55, 62, 41, 45, 44, 47,...   \n",
      "\n",
      "              agentBestValue  \n",
      "Step AgentID                  \n",
      "1    0             31.657280  \n",
      "     1             30.882763  \n",
      "     2                   inf  \n",
      "2    0             19.277172  \n",
      "     1             25.702762  \n",
      "     2             32.376000  \n",
      "3    0             19.277172  \n",
      "     1             14.640011  \n",
      "     2             30.475600  \n"
     ]
    }
   ],
   "source": [
    "agent_sol_states = sol_model.datacollector.get_agent_vars_dataframe()\n",
    "print(agent_sol_states)"
   ]
  },
  {
   "cell_type": "code",
   "execution_count": 17,
   "metadata": {},
   "outputs": [
    {
     "name": "stdout",
     "output_type": "stream",
     "text": [
      "                 Best                                           solution\n",
      "Step AgentID                                                            \n",
      "1    0            inf  [0, 1, 0, 68, 0, 10, 0, 93, 85, 0, 19, 0, 24, ...\n",
      "     1            inf  [0, 1, 0, 68, 0, 10, 0, 93, 85, 0, 19, 0, 24, ...\n",
      "     2        15.2872  [0, 96, 100, 76, 53, 51, 31, 86, 10, 18, 14, 7...\n",
      "2    0        15.2872  [0, 96, 100, 76, 53, 51, 31, 86, 10, 18, 14, 7...\n",
      "     1        15.2872  [0, 96, 100, 76, 53, 51, 31, 86, 10, 18, 14, 7...\n",
      "...               ...                                                ...\n",
      "49   1        10.3534  [0, 76, 100, 31, 78, 96, 23, 88, 39, 15, 26, 2...\n",
      "     2        10.3534  [0, 76, 100, 31, 78, 96, 23, 88, 39, 15, 26, 2...\n",
      "50   0        10.3534  [0, 76, 100, 31, 78, 96, 23, 88, 39, 15, 26, 2...\n",
      "     1        10.3534  [0, 76, 100, 31, 78, 96, 23, 88, 39, 15, 26, 2...\n",
      "     2        10.3534  [0, 76, 100, 31, 78, 96, 23, 88, 39, 15, 26, 2...\n",
      "\n",
      "[150 rows x 2 columns]\n",
      "            Best                    \\\n",
      "AgentID        0        1        2   \n",
      "Step                                 \n",
      "1            inf      inf  15.2872   \n",
      "2        15.2872  15.2872  12.7987   \n",
      "3        12.7987  12.7987  11.4812   \n",
      "4        11.4812  11.4812  10.9300   \n",
      "5        10.9300  10.9300  10.9300   \n",
      "6        10.9300  10.9300  10.3878   \n",
      "7        10.3878  10.3878  10.3878   \n",
      "8        10.3878  10.3878  10.3878   \n",
      "9        10.3878  10.3878  10.3878   \n",
      "10       10.3878  10.3878  10.3878   \n",
      "11       10.3878  10.3878  10.3878   \n",
      "12       10.3878  10.3878  10.3878   \n",
      "13       10.3878  10.3878  10.3878   \n",
      "14       10.3878  10.3878  10.3878   \n",
      "15       10.3878  10.3878  10.3878   \n",
      "16       10.3878  10.3878  10.3878   \n",
      "17       10.3878  10.3878  10.3534   \n",
      "18       10.3534  10.3534  10.3534   \n",
      "19       10.3534  10.3534  10.3534   \n",
      "20       10.3534  10.3534  10.3534   \n",
      "21       10.3534  10.3534  10.3534   \n",
      "22       10.3534  10.3534  10.3534   \n",
      "23       10.3534  10.3534  10.3534   \n",
      "24       10.3534  10.3534  10.3534   \n",
      "25       10.3534  10.3534  10.3534   \n",
      "26       10.3534  10.3534  10.3534   \n",
      "27       10.3534  10.3534  10.3534   \n",
      "28       10.3534  10.3534  10.3534   \n",
      "29       10.3534  10.3534  10.3534   \n",
      "30       10.3534  10.3534  10.3534   \n",
      "31       10.3534  10.3534  10.3534   \n",
      "32       10.3534  10.3534  10.3534   \n",
      "33       10.3534  10.3534  10.3534   \n",
      "34       10.3534  10.3534  10.3534   \n",
      "35       10.3534  10.3534  10.3534   \n",
      "36       10.3534  10.3534  10.3534   \n",
      "37       10.3534  10.3534  10.3534   \n",
      "38       10.3534  10.3534  10.3534   \n",
      "39       10.3534  10.3534  10.3534   \n",
      "40       10.3534  10.3534  10.3534   \n",
      "41       10.3534  10.3534  10.3534   \n",
      "42       10.3534  10.3534  10.3534   \n",
      "43       10.3534  10.3534  10.3534   \n",
      "44       10.3534  10.3534  10.3534   \n",
      "45       10.3534  10.3534  10.3534   \n",
      "46       10.3534  10.3534  10.3534   \n",
      "47       10.3534  10.3534  10.3534   \n",
      "48       10.3534  10.3534  10.3534   \n",
      "49       10.3534  10.3534  10.3534   \n",
      "50       10.3534  10.3534  10.3534   \n",
      "\n",
      "                                                  solution  \\\n",
      "AgentID                                                  0   \n",
      "Step                                                         \n",
      "1        [0, 1, 0, 68, 0, 10, 0, 93, 85, 0, 19, 0, 24, ...   \n",
      "2        [0, 96, 100, 76, 53, 51, 31, 86, 10, 18, 14, 7...   \n",
      "3        [0, 76, 100, 53, 51, 31, 78, 96, 23, 88, 39, 1...   \n",
      "4        [0, 76, 100, 31, 78, 96, 23, 88, 39, 15, 26, 2...   \n",
      "5        [0, 76, 100, 31, 78, 96, 23, 88, 39, 15, 26, 2...   \n",
      "6        [0, 76, 100, 31, 78, 96, 23, 88, 39, 15, 26, 2...   \n",
      "7        [0, 76, 100, 31, 78, 96, 23, 88, 39, 15, 26, 2...   \n",
      "8        [0, 76, 100, 31, 78, 96, 23, 88, 39, 15, 26, 2...   \n",
      "9        [0, 76, 100, 31, 78, 96, 23, 88, 39, 15, 26, 2...   \n",
      "10       [0, 76, 100, 31, 78, 96, 23, 88, 39, 15, 26, 2...   \n",
      "11       [0, 76, 100, 31, 78, 96, 23, 88, 39, 15, 26, 2...   \n",
      "12       [0, 76, 100, 31, 78, 96, 23, 88, 39, 15, 26, 2...   \n",
      "13       [0, 76, 100, 31, 78, 96, 23, 88, 39, 15, 26, 2...   \n",
      "14       [0, 76, 100, 31, 78, 96, 23, 88, 39, 15, 26, 2...   \n",
      "15       [0, 76, 100, 31, 78, 96, 23, 88, 39, 15, 26, 2...   \n",
      "16       [0, 76, 100, 31, 78, 96, 23, 88, 39, 15, 26, 2...   \n",
      "17       [0, 76, 100, 31, 78, 96, 23, 88, 39, 15, 26, 2...   \n",
      "18       [0, 76, 100, 31, 78, 96, 23, 88, 39, 15, 26, 2...   \n",
      "19       [0, 76, 100, 31, 78, 96, 23, 88, 39, 15, 26, 2...   \n",
      "20       [0, 76, 100, 31, 78, 96, 23, 88, 39, 15, 26, 2...   \n",
      "21       [0, 76, 100, 31, 78, 96, 23, 88, 39, 15, 26, 2...   \n",
      "22       [0, 76, 100, 31, 78, 96, 23, 88, 39, 15, 26, 2...   \n",
      "23       [0, 76, 100, 31, 78, 96, 23, 88, 39, 15, 26, 2...   \n",
      "24       [0, 76, 100, 31, 78, 96, 23, 88, 39, 15, 26, 2...   \n",
      "25       [0, 76, 100, 31, 78, 96, 23, 88, 39, 15, 26, 2...   \n",
      "26       [0, 76, 100, 31, 78, 96, 23, 88, 39, 15, 26, 2...   \n",
      "27       [0, 76, 100, 31, 78, 96, 23, 88, 39, 15, 26, 2...   \n",
      "28       [0, 76, 100, 31, 78, 96, 23, 88, 39, 15, 26, 2...   \n",
      "29       [0, 76, 100, 31, 78, 96, 23, 88, 39, 15, 26, 2...   \n",
      "30       [0, 76, 100, 31, 78, 96, 23, 88, 39, 15, 26, 2...   \n",
      "31       [0, 76, 100, 31, 78, 96, 23, 88, 39, 15, 26, 2...   \n",
      "32       [0, 76, 100, 31, 78, 96, 23, 88, 39, 15, 26, 2...   \n",
      "33       [0, 76, 100, 31, 78, 96, 23, 88, 39, 15, 26, 2...   \n",
      "34       [0, 76, 100, 31, 78, 96, 23, 88, 39, 15, 26, 2...   \n",
      "35       [0, 76, 100, 31, 78, 96, 23, 88, 39, 15, 26, 2...   \n",
      "36       [0, 76, 100, 31, 78, 96, 23, 88, 39, 15, 26, 2...   \n",
      "37       [0, 76, 100, 31, 78, 96, 23, 88, 39, 15, 26, 2...   \n",
      "38       [0, 76, 100, 31, 78, 96, 23, 88, 39, 15, 26, 2...   \n",
      "39       [0, 76, 100, 31, 78, 96, 23, 88, 39, 15, 26, 2...   \n",
      "40       [0, 76, 100, 31, 78, 96, 23, 88, 39, 15, 26, 2...   \n",
      "41       [0, 76, 100, 31, 78, 96, 23, 88, 39, 15, 26, 2...   \n",
      "42       [0, 76, 100, 31, 78, 96, 23, 88, 39, 15, 26, 2...   \n",
      "43       [0, 76, 100, 31, 78, 96, 23, 88, 39, 15, 26, 2...   \n",
      "44       [0, 76, 100, 31, 78, 96, 23, 88, 39, 15, 26, 2...   \n",
      "45       [0, 76, 100, 31, 78, 96, 23, 88, 39, 15, 26, 2...   \n",
      "46       [0, 76, 100, 31, 78, 96, 23, 88, 39, 15, 26, 2...   \n",
      "47       [0, 76, 100, 31, 78, 96, 23, 88, 39, 15, 26, 2...   \n",
      "48       [0, 76, 100, 31, 78, 96, 23, 88, 39, 15, 26, 2...   \n",
      "49       [0, 76, 100, 31, 78, 96, 23, 88, 39, 15, 26, 2...   \n",
      "50       [0, 76, 100, 31, 78, 96, 23, 88, 39, 15, 26, 2...   \n",
      "\n",
      "                                                            \\\n",
      "AgentID                                                  1   \n",
      "Step                                                         \n",
      "1        [0, 1, 0, 68, 0, 10, 0, 93, 85, 0, 19, 0, 24, ...   \n",
      "2        [0, 96, 100, 76, 53, 51, 31, 86, 10, 18, 14, 7...   \n",
      "3        [0, 76, 100, 53, 51, 31, 78, 96, 23, 88, 39, 1...   \n",
      "4        [0, 76, 100, 31, 78, 96, 23, 88, 39, 15, 26, 2...   \n",
      "5        [0, 76, 100, 31, 78, 96, 23, 88, 39, 15, 26, 2...   \n",
      "6        [0, 76, 100, 31, 78, 96, 23, 88, 39, 15, 26, 2...   \n",
      "7        [0, 76, 100, 31, 78, 96, 23, 88, 39, 15, 26, 2...   \n",
      "8        [0, 76, 100, 31, 78, 96, 23, 88, 39, 15, 26, 2...   \n",
      "9        [0, 76, 100, 31, 78, 96, 23, 88, 39, 15, 26, 2...   \n",
      "10       [0, 76, 100, 31, 78, 96, 23, 88, 39, 15, 26, 2...   \n",
      "11       [0, 76, 100, 31, 78, 96, 23, 88, 39, 15, 26, 2...   \n",
      "12       [0, 76, 100, 31, 78, 96, 23, 88, 39, 15, 26, 2...   \n",
      "13       [0, 76, 100, 31, 78, 96, 23, 88, 39, 15, 26, 2...   \n",
      "14       [0, 76, 100, 31, 78, 96, 23, 88, 39, 15, 26, 2...   \n",
      "15       [0, 76, 100, 31, 78, 96, 23, 88, 39, 15, 26, 2...   \n",
      "16       [0, 76, 100, 31, 78, 96, 23, 88, 39, 15, 26, 2...   \n",
      "17       [0, 76, 100, 31, 78, 96, 23, 88, 39, 15, 26, 2...   \n",
      "18       [0, 76, 100, 31, 78, 96, 23, 88, 39, 15, 26, 2...   \n",
      "19       [0, 76, 100, 31, 78, 96, 23, 88, 39, 15, 26, 2...   \n",
      "20       [0, 76, 100, 31, 78, 96, 23, 88, 39, 15, 26, 2...   \n",
      "21       [0, 76, 100, 31, 78, 96, 23, 88, 39, 15, 26, 2...   \n",
      "22       [0, 76, 100, 31, 78, 96, 23, 88, 39, 15, 26, 2...   \n",
      "23       [0, 76, 100, 31, 78, 96, 23, 88, 39, 15, 26, 2...   \n",
      "24       [0, 76, 100, 31, 78, 96, 23, 88, 39, 15, 26, 2...   \n",
      "25       [0, 76, 100, 31, 78, 96, 23, 88, 39, 15, 26, 2...   \n",
      "26       [0, 76, 100, 31, 78, 96, 23, 88, 39, 15, 26, 2...   \n",
      "27       [0, 76, 100, 31, 78, 96, 23, 88, 39, 15, 26, 2...   \n",
      "28       [0, 76, 100, 31, 78, 96, 23, 88, 39, 15, 26, 2...   \n",
      "29       [0, 76, 100, 31, 78, 96, 23, 88, 39, 15, 26, 2...   \n",
      "30       [0, 76, 100, 31, 78, 96, 23, 88, 39, 15, 26, 2...   \n",
      "31       [0, 76, 100, 31, 78, 96, 23, 88, 39, 15, 26, 2...   \n",
      "32       [0, 76, 100, 31, 78, 96, 23, 88, 39, 15, 26, 2...   \n",
      "33       [0, 76, 100, 31, 78, 96, 23, 88, 39, 15, 26, 2...   \n",
      "34       [0, 76, 100, 31, 78, 96, 23, 88, 39, 15, 26, 2...   \n",
      "35       [0, 76, 100, 31, 78, 96, 23, 88, 39, 15, 26, 2...   \n",
      "36       [0, 76, 100, 31, 78, 96, 23, 88, 39, 15, 26, 2...   \n",
      "37       [0, 76, 100, 31, 78, 96, 23, 88, 39, 15, 26, 2...   \n",
      "38       [0, 76, 100, 31, 78, 96, 23, 88, 39, 15, 26, 2...   \n",
      "39       [0, 76, 100, 31, 78, 96, 23, 88, 39, 15, 26, 2...   \n",
      "40       [0, 76, 100, 31, 78, 96, 23, 88, 39, 15, 26, 2...   \n",
      "41       [0, 76, 100, 31, 78, 96, 23, 88, 39, 15, 26, 2...   \n",
      "42       [0, 76, 100, 31, 78, 96, 23, 88, 39, 15, 26, 2...   \n",
      "43       [0, 76, 100, 31, 78, 96, 23, 88, 39, 15, 26, 2...   \n",
      "44       [0, 76, 100, 31, 78, 96, 23, 88, 39, 15, 26, 2...   \n",
      "45       [0, 76, 100, 31, 78, 96, 23, 88, 39, 15, 26, 2...   \n",
      "46       [0, 76, 100, 31, 78, 96, 23, 88, 39, 15, 26, 2...   \n",
      "47       [0, 76, 100, 31, 78, 96, 23, 88, 39, 15, 26, 2...   \n",
      "48       [0, 76, 100, 31, 78, 96, 23, 88, 39, 15, 26, 2...   \n",
      "49       [0, 76, 100, 31, 78, 96, 23, 88, 39, 15, 26, 2...   \n",
      "50       [0, 76, 100, 31, 78, 96, 23, 88, 39, 15, 26, 2...   \n",
      "\n",
      "                                                            \n",
      "AgentID                                                  2  \n",
      "Step                                                        \n",
      "1        [0, 96, 100, 76, 53, 51, 31, 86, 10, 18, 14, 7...  \n",
      "2        [0, 76, 100, 53, 51, 31, 78, 96, 23, 88, 39, 1...  \n",
      "3        [0, 76, 100, 31, 78, 96, 23, 88, 39, 15, 26, 2...  \n",
      "4        [0, 76, 100, 31, 78, 96, 23, 88, 39, 15, 26, 2...  \n",
      "5        [0, 76, 100, 31, 78, 96, 23, 88, 39, 15, 26, 2...  \n",
      "6        [0, 76, 100, 31, 78, 96, 23, 88, 39, 15, 26, 2...  \n",
      "7        [0, 76, 100, 31, 78, 96, 23, 88, 39, 15, 26, 2...  \n",
      "8        [0, 76, 100, 31, 78, 96, 23, 88, 39, 15, 26, 2...  \n",
      "9        [0, 76, 100, 31, 78, 96, 23, 88, 39, 15, 26, 2...  \n",
      "10       [0, 76, 100, 31, 78, 96, 23, 88, 39, 15, 26, 2...  \n",
      "11       [0, 76, 100, 31, 78, 96, 23, 88, 39, 15, 26, 2...  \n",
      "12       [0, 76, 100, 31, 78, 96, 23, 88, 39, 15, 26, 2...  \n",
      "13       [0, 76, 100, 31, 78, 96, 23, 88, 39, 15, 26, 2...  \n",
      "14       [0, 76, 100, 31, 78, 96, 23, 88, 39, 15, 26, 2...  \n",
      "15       [0, 76, 100, 31, 78, 96, 23, 88, 39, 15, 26, 2...  \n",
      "16       [0, 76, 100, 31, 78, 96, 23, 88, 39, 15, 26, 2...  \n",
      "17       [0, 76, 100, 31, 78, 96, 23, 88, 39, 15, 26, 2...  \n",
      "18       [0, 76, 100, 31, 78, 96, 23, 88, 39, 15, 26, 2...  \n",
      "19       [0, 76, 100, 31, 78, 96, 23, 88, 39, 15, 26, 2...  \n",
      "20       [0, 76, 100, 31, 78, 96, 23, 88, 39, 15, 26, 2...  \n",
      "21       [0, 76, 100, 31, 78, 96, 23, 88, 39, 15, 26, 2...  \n",
      "22       [0, 76, 100, 31, 78, 96, 23, 88, 39, 15, 26, 2...  \n",
      "23       [0, 76, 100, 31, 78, 96, 23, 88, 39, 15, 26, 2...  \n",
      "24       [0, 76, 100, 31, 78, 96, 23, 88, 39, 15, 26, 2...  \n",
      "25       [0, 76, 100, 31, 78, 96, 23, 88, 39, 15, 26, 2...  \n",
      "26       [0, 76, 100, 31, 78, 96, 23, 88, 39, 15, 26, 2...  \n",
      "27       [0, 76, 100, 31, 78, 96, 23, 88, 39, 15, 26, 2...  \n",
      "28       [0, 76, 100, 31, 78, 96, 23, 88, 39, 15, 26, 2...  \n",
      "29       [0, 76, 100, 31, 78, 96, 23, 88, 39, 15, 26, 2...  \n",
      "30       [0, 76, 100, 31, 78, 96, 23, 88, 39, 15, 26, 2...  \n",
      "31       [0, 76, 100, 31, 78, 96, 23, 88, 39, 15, 26, 2...  \n",
      "32       [0, 76, 100, 31, 78, 96, 23, 88, 39, 15, 26, 2...  \n",
      "33       [0, 76, 100, 31, 78, 96, 23, 88, 39, 15, 26, 2...  \n",
      "34       [0, 76, 100, 31, 78, 96, 23, 88, 39, 15, 26, 2...  \n",
      "35       [0, 76, 100, 31, 78, 96, 23, 88, 39, 15, 26, 2...  \n",
      "36       [0, 76, 100, 31, 78, 96, 23, 88, 39, 15, 26, 2...  \n",
      "37       [0, 76, 100, 31, 78, 96, 23, 88, 39, 15, 26, 2...  \n",
      "38       [0, 76, 100, 31, 78, 96, 23, 88, 39, 15, 26, 2...  \n",
      "39       [0, 76, 100, 31, 78, 96, 23, 88, 39, 15, 26, 2...  \n",
      "40       [0, 76, 100, 31, 78, 96, 23, 88, 39, 15, 26, 2...  \n",
      "41       [0, 76, 100, 31, 78, 96, 23, 88, 39, 15, 26, 2...  \n",
      "42       [0, 76, 100, 31, 78, 96, 23, 88, 39, 15, 26, 2...  \n",
      "43       [0, 76, 100, 31, 78, 96, 23, 88, 39, 15, 26, 2...  \n",
      "44       [0, 76, 100, 31, 78, 96, 23, 88, 39, 15, 26, 2...  \n",
      "45       [0, 76, 100, 31, 78, 96, 23, 88, 39, 15, 26, 2...  \n",
      "46       [0, 76, 100, 31, 78, 96, 23, 88, 39, 15, 26, 2...  \n",
      "47       [0, 76, 100, 31, 78, 96, 23, 88, 39, 15, 26, 2...  \n",
      "48       [0, 76, 100, 31, 78, 96, 23, 88, 39, 15, 26, 2...  \n",
      "49       [0, 76, 100, 31, 78, 96, 23, 88, 39, 15, 26, 2...  \n",
      "50       [0, 76, 100, 31, 78, 96, 23, 88, 39, 15, 26, 2...  \n"
     ]
    }
   ],
   "source": [
    "agent_state = sol_model.datacollector.get_agent_vars_dataframe()\n",
    "print(agent_state)\n",
    "res = agent_state.unstack()\n",
    "print(res)"
   ]
  },
  {
   "cell_type": "code",
   "execution_count": null,
   "metadata": {},
   "outputs": [],
   "source": []
  },
  {
   "cell_type": "code",
   "execution_count": null,
   "metadata": {},
   "outputs": [],
   "source": [
    "for _ in range(100):\n",
    "    sol_model.step()\n",
    "    for sol in sol_model.solution_pool.pool:\n",
    "        print(sol.get_best_sol())"
   ]
  }
 ],
 "metadata": {
  "kernelspec": {
   "display_name": "base",
   "language": "python",
   "name": "python3"
  },
  "language_info": {
   "codemirror_mode": {
    "name": "ipython",
    "version": 3
   },
   "file_extension": ".py",
   "mimetype": "text/x-python",
   "name": "python",
   "nbconvert_exporter": "python",
   "pygments_lexer": "ipython3",
   "version": "3.11.5"
  }
 },
 "nbformat": 4,
 "nbformat_minor": 2
}
