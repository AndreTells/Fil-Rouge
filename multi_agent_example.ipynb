{
 "cells": [
  {
   "cell_type": "code",
   "execution_count": null,
   "metadata": {},
   "outputs": [],
   "source": [
    "from proj_utils.fake_input_generator import generator\n",
    "from proj_utils.input_interpreter import format_input\n",
    "\n",
    "import matplotlib.pyplot as plt\n",
    "\n",
    "from VRP.greedy_solutions import nearest_neighbour_solution\n",
    "from VRP.modify_solution import combined_rand_modification\n",
    "from VRP.verify_solution import valid_path, calculate_path_distance\n",
    "from VRP.compare_solutions import num_different_edges\n",
    "\n",
    "\n",
    "from proj_utils.path import print_path\n",
    "\n",
    "from solver_step import SolverStep\n",
    "\n",
    "import simulated_annealing.solver as SA\n",
    "import taboo_search.solver as TS\n",
    "\n",
    "from multi_agent.VRP_model import VRPSolutionModel\n",
    "from multi_agent.solution_pool import solution_pool_simple\n",
    "%matplotlib widget"
   ]
  },
  {
   "cell_type": "code",
   "execution_count": null,
   "metadata": {},
   "outputs": [],
   "source": [
    "truck_volume_capacity = 15\n",
    "truck_weight_capacity = 10\n",
    "truck_capacity = (truck_volume_capacity, truck_weight_capacity)\n",
    "dists, demand, points = generator(40)"
   ]
  },
  {
   "cell_type": "code",
   "execution_count": null,
   "metadata": {},
   "outputs": [],
   "source": [
    "eval_function = lambda x: calculate_path_distance(x, dists) if(valid_path(x,truck_capacity,demand)) else float('inf')"
   ]
  },
  {
   "cell_type": "code",
   "execution_count": null,
   "metadata": {},
   "outputs": [],
   "source": [
    "solver_step_SA = SA.generic_solver_factory(\n",
    "    lambda x: combined_rand_modification(x, len(points)),\n",
    "    eval_function,\n",
    "    )"
   ]
  },
  {
   "cell_type": "code",
   "execution_count": null,
   "metadata": {},
   "outputs": [],
   "source": [
    "taboo_list_size = 10\n",
    "solver_step_TS = TS.taboo_search_solver_factory(\n",
    "    lambda x: combined_rand_modification(x, len(points)),\n",
    "    eval_function,\n",
    "    taboo_list_size\n",
    "    )"
   ]
  },
  {
   "cell_type": "code",
   "execution_count": null,
   "metadata": {},
   "outputs": [],
   "source": [
    "init_state = nearest_neighbour_solution(dists, demand, truck_capacity)\n",
    "init_step = SolverStep(init_state,eval_function(init_state),5)\n",
    "step_function_list = [solver_step_SA, solver_step_TS]"
   ]
  },
  {
   "cell_type": "code",
   "execution_count": null,
   "metadata": {},
   "outputs": [],
   "source": [
    "solution_pool = solution_pool_simple(num_different_edges)\n",
    "sol_model = VRPSolutionModel(init_step, step_function_list, None)"
   ]
  },
  {
   "cell_type": "code",
   "execution_count": null,
   "metadata": {},
   "outputs": [],
   "source": [
    "for _ in range(100):\n",
    "    sol_model.step()"
   ]
  },
  {
   "cell_type": "code",
   "execution_count": null,
   "metadata": {},
   "outputs": [],
   "source": [
    "sol_states = sol_model.datacollector.get_model_vars_dataframe()\n",
    "print(sol_states)"
   ]
  },
  {
   "cell_type": "code",
   "execution_count": 1,
   "metadata": {},
   "outputs": [],
   "source": [
    "from VRP.compare_solutions import num_different_edges"
   ]
  }
 ],
 "metadata": {
  "kernelspec": {
   "display_name": "base",
   "language": "python",
   "name": "python3"
  },
  "language_info": {
   "codemirror_mode": {
    "name": "ipython",
    "version": 3
   },
   "file_extension": ".py",
   "mimetype": "text/x-python",
   "name": "python",
   "nbconvert_exporter": "python",
   "pygments_lexer": "ipython3",
   "version": "3.11.1"
  }
 },
 "nbformat": 4,
 "nbformat_minor": 2
}
