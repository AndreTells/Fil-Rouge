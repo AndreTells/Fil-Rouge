{
 "cells": [
  {
   "cell_type": "code",
   "execution_count": null,
   "metadata": {},
   "outputs": [],
   "source": [
    "from proj_utils.fake_input_generator import generator\n",
    "from proj_utils.input_interpreter import format_input"
   ]
  },
  {
   "cell_type": "code",
   "execution_count": null,
   "metadata": {},
   "outputs": [],
   "source": [
    "\n",
    "import matplotlib.pyplot as plt\n",
    "\n",
    "from VRP.greedy_solutions import nearest_neighbour_solution,random_solution\n",
    "from VRP.modify_solution import *\n",
    "from VRP.verify_solution import valid_path, calculate_path_distance, num_vehicles\n",
    "from VRP.compare_solutions import num_different_edges\n",
    "\n",
    "\n",
    "from proj_utils.path import print_path\n",
    "\n",
    "\n",
    "import pandas as pd\n",
    "import simulated_annealing.solver as SA\n",
    "import taboo_search.solver as TS\n",
    "\n",
    "from multi_agent.solver_model import MultiAgentSolverModel\n",
    "from multi_agent.colaboration_types import ColaborationTypes\n",
    "from solver_step import SolverStep\n",
    "from multi_agent.solution_pool import solution_pool_simple\n",
    "import pandas as pd"
   ]
  },
  {
   "cell_type": "code",
   "execution_count": null,
   "metadata": {},
   "outputs": [],
   "source": [
    "customer_df = pd.read_excel('data/2_detail_table_customers.xls')\n",
    "deposit_df = pd.read_excel('data/4_detail_table_depots.xls')\n",
    "routes = customer_df['ROUTE_ID'].unique()\n",
    "chosen_route = routes[4]\n",
    "dists, demand, points = format_input(chosen_route,customer_df,deposit_df)\n",
    "\n",
    "truck_volume_capacity = 30\n",
    "truck_weight_capacity = 20000\n",
    "truck_capacity = (truck_weight_capacity, truck_volume_capacity)"
   ]
  },
  {
   "cell_type": "code",
   "execution_count": null,
   "metadata": {},
   "outputs": [],
   "source": [
    "eval_function = lambda x: 0.3*num_vehicles(x) + calculate_path_distance(x, dists) if(valid_path(x,truck_capacity,demand)) else float('inf')"
   ]
  },
  {
   "cell_type": "code",
   "execution_count": null,
   "metadata": {},
   "outputs": [],
   "source": [
    "init_state = random_solution(dists, demand, truck_capacity)\n",
    "init_step = SolverStep(init_state,eval_function(init_state),100)\n",
    "\n",
    "init_step_generator = lambda : SolverStep(random_solution(dists, demand, truck_capacity),eval_function(init_state),100)"
   ]
  },
  {
   "cell_type": "markdown",
   "metadata": {},
   "source": [
    "# Multi Agents without Q-Learning"
   ]
  },
  {
   "cell_type": "code",
   "execution_count": null,
   "metadata": {},
   "outputs": [],
   "source": [
    "neighbour_function = lambda x: combined_rand_modification(x, len(points), dists)"
   ]
  },
  {
   "cell_type": "code",
   "execution_count": null,
   "metadata": {},
   "outputs": [],
   "source": [
    "solver_step_SA = SA.generic_solver_factory(\n",
    "    neighbour_function,\n",
    "    eval_function,\n",
    "    )"
   ]
  },
  {
   "cell_type": "code",
   "execution_count": null,
   "metadata": {},
   "outputs": [],
   "source": [
    "taboo_list_size = 10\n",
    "solver_step_TS = TS.taboo_search_solver_factory(\n",
    "    neighbour_function,\n",
    "    eval_function,\n",
    "    taboo_list_size\n",
    "    )"
   ]
  },
  {
   "cell_type": "code",
   "execution_count": null,
   "metadata": {},
   "outputs": [],
   "source": [
    "step_function_list = [solver_step_SA, solver_step_TS]\n",
    "agent_labels = ['simulated annealing', 'taboo search']"
   ]
  },
  {
   "cell_type": "code",
   "execution_count": null,
   "metadata": {},
   "outputs": [],
   "source": [
    "solution_pool = solution_pool_simple(num_different_edges, radious=2)\n",
    "sol_model = MultiAgentSolverModel(\n",
    "    init_step_generator,\n",
    "     step_function_list,\n",
    "     chosen_route,20000,30,\n",
    "     solution_pool,\n",
    "     10,\n",
    "     colaboration_type = ColaborationTypes.FRIENDS,\n",
    "     agent_labels = agent_labels,\n",
    "     )"
   ]
  },
  {
   "cell_type": "code",
   "execution_count": null,
   "metadata": {},
   "outputs": [],
   "source": [
    "for _ in range(2):\n",
    "    sol_model.step()"
   ]
  },
  {
   "cell_type": "code",
   "execution_count": null,
   "metadata": {},
   "outputs": [],
   "source": [
    "sol_states = sol_model.datacollector.get_model_vars_dataframe()\n",
    "print(sol_states.loc[49]['TheGlobalBest'])"
   ]
  },
  {
   "cell_type": "code",
   "execution_count": null,
   "metadata": {},
   "outputs": [],
   "source": [
    "agent_sol_states = sol_model.datacollector.get_agent_vars_dataframe()\n",
    "print(agent_sol_states)"
   ]
  },
  {
   "cell_type": "markdown",
   "metadata": {},
   "source": [
    "# Multi Agents with Q-Learning"
   ]
  },
  {
   "cell_type": "code",
   "execution_count": null,
   "metadata": {},
   "outputs": [],
   "source": [
    "from q_learning import *\n",
    "\n",
    "function_list = [\n",
    "    lambda x:intra_route_swap(x,len(dists),dists),\n",
    "    lambda x:inter_route_swap(x,len(dists),dists),\n",
    "    lambda x:intra_route_shift(x,len(dists),dists),\n",
    "    lambda x:inter_route_shift(x,len(dists),dists),\n",
    "    lambda x:two_intra_route_shift(x,len(dists),dists),\n",
    "    lambda x:two_intra_route_swap(x,len(dists),dists),\n",
    "    lambda x:remove_smallest_route(x,len(dists),dists),\n",
    "    lambda x:remove_random_route(x,len(dists),dists),\n",
    "    lambda x:split_biggest_route(x,len(dists),dists),\n",
    "    lambda x:split_random_route(x,len(dists),dists)\n",
    "    ]\n",
    "\n",
    "q = q_learning_obj(0,init_q_learning_table(len(function_list)),len(function_list), 0.9, 0.1)\n",
    "neighbour_function = lambda x: q_learning_iteration(x,q,function_list,eval_function)"
   ]
  },
  {
   "cell_type": "code",
   "execution_count": null,
   "metadata": {},
   "outputs": [],
   "source": [
    "solver_step_SA = SA.generic_solver_factory(\n",
    "    neighbour_function,\n",
    "    eval_function,\n",
    "    )"
   ]
  },
  {
   "cell_type": "code",
   "execution_count": null,
   "metadata": {},
   "outputs": [],
   "source": [
    "taboo_list_size = 10\n",
    "solver_step_TS = TS.taboo_search_solver_factory(\n",
    "    neighbour_function,\n",
    "    eval_function,\n",
    "    taboo_list_size\n",
    "    )"
   ]
  },
  {
   "cell_type": "code",
   "execution_count": null,
   "metadata": {},
   "outputs": [],
   "source": [
    "step_function_list = [solver_step_SA, solver_step_TS]\n",
    "agent_labels = ['simulated annealing', 'taboo search']"
   ]
  },
  {
   "cell_type": "code",
   "execution_count": null,
   "metadata": {},
   "outputs": [],
   "source": [
    "solution_pool = solution_pool_simple(num_different_edges, radious=2)\n",
    "sol_model = MultiAgentSolverModel(\n",
    "    init_step_generator,\n",
    "     step_function_list,\n",
    "     chosen_route,20000,30,\n",
    "     solution_pool,\n",
    "     10,\n",
    "     colaboration_type = ColaborationTypes.FRIENDS,\n",
    "     QLearn_q = q,\n",
    "     QLearn_neighbor_function_list = function_list,\n",
    "     QLearn_eval_function = eval_function,\n",
    "     agent_labels = agent_labels\n",
    "     )"
   ]
  },
  {
   "cell_type": "code",
   "execution_count": null,
   "metadata": {},
   "outputs": [],
   "source": [
    "for _ in range(2):\n",
    "    sol_model.step()"
   ]
  }
 ],
 "metadata": {
  "kernelspec": {
   "display_name": "base",
   "language": "python",
   "name": "python3"
  },
  "language_info": {
   "codemirror_mode": {
    "name": "ipython",
    "version": 3
   },
   "file_extension": ".py",
   "mimetype": "text/x-python",
   "name": "python",
   "nbconvert_exporter": "python",
   "pygments_lexer": "ipython3",
   "version": "3.11.5"
  }
 },
 "nbformat": 4,
 "nbformat_minor": 2
}
