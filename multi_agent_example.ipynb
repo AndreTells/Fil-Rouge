{
 "cells": [
  {
   "cell_type": "code",
   "execution_count": 1,
   "metadata": {},
   "outputs": [],
   "source": [
    "from proj_utils.fake_input_generator import generator\n",
    "from proj_utils.input_interpreter import format_input"
   ]
  },
  {
   "cell_type": "code",
   "execution_count": 2,
   "metadata": {},
   "outputs": [],
   "source": [
    "\n",
    "import matplotlib.pyplot as plt\n",
    "\n",
    "from VRP.greedy_solutions import nearest_neighbour_solution,random_solution\n",
    "from VRP.modify_solution import *\n",
    "from VRP.verify_solution import valid_path, calculate_path_distance\n",
    "from VRP.compare_solutions import num_different_edges\n",
    "\n",
    "\n",
    "from proj_utils.path import print_path\n",
    "\n",
    "\n",
    "import pandas as pd\n",
    "import simulated_annealing.solver as SA\n",
    "import taboo_search.solver as TS\n",
    "\n",
    "from multi_agent.solver_model import MultiAgentSolverModel\n",
    "from multi_agent.colaboration_types import ColaborationTypes\n",
    "from solver_step import SolverStep\n",
    "from multi_agent.solution_pool import solution_pool_simple\n",
    "import pandas as pd\n",
    "%matplotlib widget"
   ]
  },
  {
   "cell_type": "code",
   "execution_count": 3,
   "metadata": {},
   "outputs": [],
   "source": [
    "customer_df = pd.read_excel('data/2_detail_table_customers.xls')\n",
    "deposit_df = pd.read_excel('data/4_detail_table_depots.xls')\n",
    "routes = customer_df['ROUTE_ID'].unique()\n",
    "chosen_route = routes[2]\n",
    "dists, demand, points = format_input(chosen_route,customer_df,deposit_df)\n",
    "truck_volume_capacity = 30\n",
    "truck_weight_capacity = 20000\n",
    "truck_capacity = (truck_weight_capacity, truck_volume_capacity)\n",
    "\n",
    "#dists, demand, points = generator(40)"
   ]
  },
  {
   "cell_type": "code",
   "execution_count": 4,
   "metadata": {},
   "outputs": [],
   "source": [
    "customer_df = pd.read_excel('data/2_detail_table_customers.xls')\n",
    "deposit_df = pd.read_excel('data/4_detail_table_depots.xls')\n",
    "routes = customer_df['ROUTE_ID'].unique()\n",
    "dists, demand, points = format_input(routes[0],customer_df,deposit_df)"
   ]
  },
  {
   "cell_type": "code",
   "execution_count": 5,
   "metadata": {},
   "outputs": [
    {
     "name": "stdout",
     "output_type": "stream",
     "text": [
      "108\n"
     ]
    }
   ],
   "source": [
    "print(len(points))"
   ]
  },
  {
   "cell_type": "code",
   "execution_count": 6,
   "metadata": {},
   "outputs": [],
   "source": [
    "eval_function = lambda x: calculate_path_distance(x, dists) if(valid_path(x,truck_capacity,demand)) else float('inf')"
   ]
  },
  {
   "cell_type": "code",
   "execution_count": 7,
   "metadata": {},
   "outputs": [],
   "source": [
    "from q_learning import *\n",
    "\n",
    "function_list = [\n",
    "    lambda x:intra_route_swap(x,len(dists),dists),\n",
    "    lambda x:inter_route_swap(x,len(dists),dists),\n",
    "    lambda x:intra_route_shift(x,len(dists),dists),\n",
    "    lambda x:inter_route_shift(x,len(dists),dists),\n",
    "    lambda x:two_intra_route_shift(x,len(dists),dists),\n",
    "    lambda x:two_intra_route_swap(x,len(dists),dists),\n",
    "    lambda x:remove_smallest_route(x,len(dists),dists),\n",
    "    lambda x:remove_random_route(x,len(dists),dists),\n",
    "    lambda x:split_biggest_route(x,len(dists),dists),\n",
    "    lambda x:split_random_route(x,len(dists),dists)\n",
    "    ]\n",
    "\n",
    "q = q_learning_obj(0,init_q_learning_table(len(function_list)),len(function_list), 0.9, 0.1)\n",
    "\n",
    "#neighbour_function = lambda x: combined_rand_modification(x, len(points), dists)\n",
    "neighbour_function = lambda x: q_learning_iteration(x,q,function_list,eval_function)"
   ]
  },
  {
   "cell_type": "code",
   "execution_count": 8,
   "metadata": {},
   "outputs": [],
   "source": [
    "solver_step_SA = SA.generic_solver_factory(\n",
    "    neighbour_function,\n",
    "    eval_function,\n",
    "    )"
   ]
  },
  {
   "cell_type": "code",
   "execution_count": 9,
   "metadata": {},
   "outputs": [],
   "source": [
    "taboo_list_size = 10\n",
    "solver_step_TS = TS.taboo_search_solver_factory(\n",
    "    neighbour_function,\n",
    "    eval_function,\n",
    "    taboo_list_size\n",
    "    )"
   ]
  },
  {
   "cell_type": "code",
   "execution_count": 10,
   "metadata": {},
   "outputs": [],
   "source": [
    "step_function_list = [solver_step_SA, solver_step_TS]\n",
    "agent_labels = ['simulated annealing', 'taboo search']"
   ]
  },
  {
   "cell_type": "code",
   "execution_count": 11,
   "metadata": {},
   "outputs": [],
   "source": [
    "init_state = random_solution(dists, demand, truck_capacity)\n",
    "init_step = SolverStep(init_state,eval_function(init_state),100)\n",
    "\n",
    "init_step_generator = lambda : SolverStep(random_solution(dists, demand, truck_capacity),eval_function(init_state),100)"
   ]
  },
  {
   "cell_type": "code",
   "execution_count": 16,
   "metadata": {},
   "outputs": [],
   "source": [
    "solution_pool = solution_pool_simple(num_different_edges, radious=2)\n",
    "sol_model = MultiAgentSolverModel(\n",
    "    init_step_generator,\n",
    "     step_function_list,\n",
    "     chosen_route,20000,30,\n",
    "     solution_pool,\n",
    "     1,\n",
    "     colaboration_type = ColaborationTypes.FRIENDS,\n",
    "     agent_labels = agent_labels,\n",
    "     )"
   ]
  },
  {
   "cell_type": "code",
   "execution_count": 17,
   "metadata": {},
   "outputs": [
    {
     "name": "stdout",
     "output_type": "stream",
     "text": [
      "population generated\n"
     ]
    },
    {
     "ename": "KeyError",
     "evalue": "(0, 104)",
     "output_type": "error",
     "traceback": [
      "\u001b[1;31m---------------------------------------------------------------------------\u001b[0m",
      "\u001b[1;31mKeyError\u001b[0m                                  Traceback (most recent call last)",
      "Cell \u001b[1;32mIn[17], line 2\u001b[0m\n\u001b[0;32m      1\u001b[0m \u001b[38;5;28;01mfor\u001b[39;00m _ \u001b[38;5;129;01min\u001b[39;00m \u001b[38;5;28mrange\u001b[39m(\u001b[38;5;241m2\u001b[39m):\n\u001b[1;32m----> 2\u001b[0m     \u001b[43msol_model\u001b[49m\u001b[38;5;241;43m.\u001b[39;49m\u001b[43mstep\u001b[49m\u001b[43m(\u001b[49m\u001b[43m)\u001b[49m\n",
      "File \u001b[1;32mc:\\Users\\andre\\Documents\\Materias\\ICO\\Fil-Rouge-ICO-2024\\multi_agent\\solver_model.py:101\u001b[0m, in \u001b[0;36mMultiAgentSolverModel.step\u001b[1;34m(self)\u001b[0m\n\u001b[0;32m    100\u001b[0m \u001b[38;5;28;01mdef\u001b[39;00m \u001b[38;5;21mstep\u001b[39m(\u001b[38;5;28mself\u001b[39m):\n\u001b[1;32m--> 101\u001b[0m     \u001b[38;5;28;43mself\u001b[39;49m\u001b[38;5;241;43m.\u001b[39;49m\u001b[43mschedule\u001b[49m\u001b[38;5;241;43m.\u001b[39;49m\u001b[43mstep\u001b[49m\u001b[43m(\u001b[49m\u001b[43m)\u001b[49m\n\u001b[0;32m    102\u001b[0m     \u001b[38;5;28mself\u001b[39m\u001b[38;5;241m.\u001b[39mdatacollector\u001b[38;5;241m.\u001b[39mcollect(\u001b[38;5;28mself\u001b[39m)\n",
      "File \u001b[1;32m~\\AppData\\Roaming\\Python\\Python311\\site-packages\\mesa\\time.py:122\u001b[0m, in \u001b[0;36mBaseScheduler._wrapped_step\u001b[1;34m(self)\u001b[0m\n\u001b[0;32m    120\u001b[0m \u001b[38;5;28;01mdef\u001b[39;00m \u001b[38;5;21m_wrapped_step\u001b[39m(\u001b[38;5;28mself\u001b[39m):\n\u001b[0;32m    121\u001b[0m \u001b[38;5;250m    \u001b[39m\u001b[38;5;124;03m\"\"\"Wrapper for the step method to include time and step updating.\"\"\"\u001b[39;00m\n\u001b[1;32m--> 122\u001b[0m     \u001b[38;5;28;43mself\u001b[39;49m\u001b[38;5;241;43m.\u001b[39;49m\u001b[43m_original_step\u001b[49m\u001b[43m(\u001b[49m\u001b[43m)\u001b[49m\n\u001b[0;32m    123\u001b[0m     \u001b[38;5;28mself\u001b[39m\u001b[38;5;241m.\u001b[39mmodel\u001b[38;5;241m.\u001b[39m_advance_time()\n",
      "File \u001b[1;32m~\\AppData\\Roaming\\Python\\Python311\\site-packages\\mesa\\time.py:202\u001b[0m, in \u001b[0;36mSimultaneousActivation.step\u001b[1;34m(self)\u001b[0m\n\u001b[0;32m    200\u001b[0m \u001b[38;5;28;01mdef\u001b[39;00m \u001b[38;5;21mstep\u001b[39m(\u001b[38;5;28mself\u001b[39m) \u001b[38;5;241m-\u001b[39m\u001b[38;5;241m>\u001b[39m \u001b[38;5;28;01mNone\u001b[39;00m:\n\u001b[0;32m    201\u001b[0m \u001b[38;5;250m    \u001b[39m\u001b[38;5;124;03m\"\"\"Step all agents, then advance them.\"\"\"\u001b[39;00m\n\u001b[1;32m--> 202\u001b[0m     \u001b[38;5;28;43mself\u001b[39;49m\u001b[38;5;241;43m.\u001b[39;49m\u001b[43mdo_each\u001b[49m\u001b[43m(\u001b[49m\u001b[38;5;124;43m\"\u001b[39;49m\u001b[38;5;124;43mstep\u001b[39;49m\u001b[38;5;124;43m\"\u001b[39;49m\u001b[43m)\u001b[49m\n\u001b[0;32m    203\u001b[0m     \u001b[38;5;66;03m# do_each recomputes the agent_keys from scratch whenever it is called.\u001b[39;00m\n\u001b[0;32m    204\u001b[0m     \u001b[38;5;66;03m# It can handle the case when some agents might have been removed in\u001b[39;00m\n\u001b[0;32m    205\u001b[0m     \u001b[38;5;66;03m# the previous loop.\u001b[39;00m\n\u001b[0;32m    206\u001b[0m     \u001b[38;5;28mself\u001b[39m\u001b[38;5;241m.\u001b[39mdo_each(\u001b[38;5;124m\"\u001b[39m\u001b[38;5;124madvance\u001b[39m\u001b[38;5;124m\"\u001b[39m)\n",
      "File \u001b[1;32m~\\AppData\\Roaming\\Python\\Python311\\site-packages\\mesa\\time.py:154\u001b[0m, in \u001b[0;36mBaseScheduler.do_each\u001b[1;34m(self, method, shuffle)\u001b[0m\n\u001b[0;32m    152\u001b[0m \u001b[38;5;28;01mif\u001b[39;00m shuffle:\n\u001b[0;32m    153\u001b[0m     \u001b[38;5;28mself\u001b[39m\u001b[38;5;241m.\u001b[39m_agents\u001b[38;5;241m.\u001b[39mshuffle(inplace\u001b[38;5;241m=\u001b[39m\u001b[38;5;28;01mTrue\u001b[39;00m)\n\u001b[1;32m--> 154\u001b[0m \u001b[38;5;28;43mself\u001b[39;49m\u001b[38;5;241;43m.\u001b[39;49m\u001b[43m_agents\u001b[49m\u001b[38;5;241;43m.\u001b[39;49m\u001b[43mdo\u001b[49m\u001b[43m(\u001b[49m\u001b[43mmethod\u001b[49m\u001b[43m)\u001b[49m\n",
      "File \u001b[1;32m~\\AppData\\Roaming\\Python\\Python311\\site-packages\\mesa\\agent.py:253\u001b[0m, in \u001b[0;36mAgentSet.do\u001b[1;34m(self, method_name, return_results, *args, **kwargs)\u001b[0m\n\u001b[0;32m    240\u001b[0m \u001b[38;5;250m\u001b[39m\u001b[38;5;124;03m\"\"\"\u001b[39;00m\n\u001b[0;32m    241\u001b[0m \u001b[38;5;124;03mInvoke a method on each agent in the AgentSet.\u001b[39;00m\n\u001b[0;32m    242\u001b[0m \n\u001b[1;32m   (...)\u001b[0m\n\u001b[0;32m    250\u001b[0m \u001b[38;5;124;03m    AgentSet | list[Any]: The results of the method calls if return_results is True, otherwise the AgentSet itself.\u001b[39;00m\n\u001b[0;32m    251\u001b[0m \u001b[38;5;124;03m\"\"\"\u001b[39;00m\n\u001b[0;32m    252\u001b[0m \u001b[38;5;66;03m# we iterate over the actual weakref keys and check if weakref is alive before calling the method\u001b[39;00m\n\u001b[1;32m--> 253\u001b[0m res \u001b[38;5;241m=\u001b[39m \u001b[43m[\u001b[49m\n\u001b[0;32m    254\u001b[0m \u001b[43m    \u001b[49m\u001b[38;5;28;43mgetattr\u001b[39;49m\u001b[43m(\u001b[49m\u001b[43magentref\u001b[49m\u001b[43m(\u001b[49m\u001b[43m)\u001b[49m\u001b[43m,\u001b[49m\u001b[43m \u001b[49m\u001b[43mmethod_name\u001b[49m\u001b[43m)\u001b[49m\u001b[43m(\u001b[49m\u001b[38;5;241;43m*\u001b[39;49m\u001b[43margs\u001b[49m\u001b[43m,\u001b[49m\u001b[43m \u001b[49m\u001b[38;5;241;43m*\u001b[39;49m\u001b[38;5;241;43m*\u001b[39;49m\u001b[43mkwargs\u001b[49m\u001b[43m)\u001b[49m\n\u001b[0;32m    255\u001b[0m \u001b[43m    \u001b[49m\u001b[38;5;28;43;01mfor\u001b[39;49;00m\u001b[43m \u001b[49m\u001b[43magentref\u001b[49m\u001b[43m \u001b[49m\u001b[38;5;129;43;01min\u001b[39;49;00m\u001b[43m \u001b[49m\u001b[38;5;28;43mself\u001b[39;49m\u001b[38;5;241;43m.\u001b[39;49m\u001b[43m_agents\u001b[49m\u001b[38;5;241;43m.\u001b[39;49m\u001b[43mkeyrefs\u001b[49m\u001b[43m(\u001b[49m\u001b[43m)\u001b[49m\n\u001b[0;32m    256\u001b[0m \u001b[43m    \u001b[49m\u001b[38;5;28;43;01mif\u001b[39;49;00m\u001b[43m \u001b[49m\u001b[43magentref\u001b[49m\u001b[43m(\u001b[49m\u001b[43m)\u001b[49m\n\u001b[0;32m    257\u001b[0m \u001b[43m\u001b[49m\u001b[43m]\u001b[49m\n\u001b[0;32m    259\u001b[0m \u001b[38;5;28;01mreturn\u001b[39;00m res \u001b[38;5;28;01mif\u001b[39;00m return_results \u001b[38;5;28;01melse\u001b[39;00m \u001b[38;5;28mself\u001b[39m\n",
      "File \u001b[1;32m~\\AppData\\Roaming\\Python\\Python311\\site-packages\\mesa\\agent.py:254\u001b[0m, in \u001b[0;36m<listcomp>\u001b[1;34m(.0)\u001b[0m\n\u001b[0;32m    240\u001b[0m \u001b[38;5;250m\u001b[39m\u001b[38;5;124;03m\"\"\"\u001b[39;00m\n\u001b[0;32m    241\u001b[0m \u001b[38;5;124;03mInvoke a method on each agent in the AgentSet.\u001b[39;00m\n\u001b[0;32m    242\u001b[0m \n\u001b[1;32m   (...)\u001b[0m\n\u001b[0;32m    250\u001b[0m \u001b[38;5;124;03m    AgentSet | list[Any]: The results of the method calls if return_results is True, otherwise the AgentSet itself.\u001b[39;00m\n\u001b[0;32m    251\u001b[0m \u001b[38;5;124;03m\"\"\"\u001b[39;00m\n\u001b[0;32m    252\u001b[0m \u001b[38;5;66;03m# we iterate over the actual weakref keys and check if weakref is alive before calling the method\u001b[39;00m\n\u001b[0;32m    253\u001b[0m res \u001b[38;5;241m=\u001b[39m [\n\u001b[1;32m--> 254\u001b[0m     \u001b[38;5;28;43mgetattr\u001b[39;49m\u001b[43m(\u001b[49m\u001b[43magentref\u001b[49m\u001b[43m(\u001b[49m\u001b[43m)\u001b[49m\u001b[43m,\u001b[49m\u001b[43m \u001b[49m\u001b[43mmethod_name\u001b[49m\u001b[43m)\u001b[49m\u001b[43m(\u001b[49m\u001b[38;5;241;43m*\u001b[39;49m\u001b[43margs\u001b[49m\u001b[43m,\u001b[49m\u001b[43m \u001b[49m\u001b[38;5;241;43m*\u001b[39;49m\u001b[38;5;241;43m*\u001b[39;49m\u001b[43mkwargs\u001b[49m\u001b[43m)\u001b[49m\n\u001b[0;32m    255\u001b[0m     \u001b[38;5;28;01mfor\u001b[39;00m agentref \u001b[38;5;129;01min\u001b[39;00m \u001b[38;5;28mself\u001b[39m\u001b[38;5;241m.\u001b[39m_agents\u001b[38;5;241m.\u001b[39mkeyrefs()\n\u001b[0;32m    256\u001b[0m     \u001b[38;5;28;01mif\u001b[39;00m agentref()\n\u001b[0;32m    257\u001b[0m ]\n\u001b[0;32m    259\u001b[0m \u001b[38;5;28;01mreturn\u001b[39;00m res \u001b[38;5;28;01mif\u001b[39;00m return_results \u001b[38;5;28;01melse\u001b[39;00m \u001b[38;5;28mself\u001b[39m\n",
      "File \u001b[1;32mc:\\Users\\andre\\Documents\\Materias\\ICO\\Fil-Rouge-ICO-2024\\multi_agent\\GeneticAgent.py:180\u001b[0m, in \u001b[0;36mGeneticAgent.step\u001b[1;34m(self)\u001b[0m\n\u001b[0;32m    178\u001b[0m         \u001b[38;5;28mself\u001b[39m\u001b[38;5;241m.\u001b[39mhandleEnemies(\u001b[38;5;28mself\u001b[39m\u001b[38;5;241m.\u001b[39menemyTolerance)\n\u001b[0;32m    179\u001b[0m         \u001b[38;5;28;01mreturn\u001b[39;00m\n\u001b[1;32m--> 180\u001b[0m \u001b[38;5;28;43mself\u001b[39;49m\u001b[38;5;241;43m.\u001b[39;49m\u001b[43mnext_step\u001b[49m\u001b[43m(\u001b[49m\u001b[43m)\u001b[49m\n",
      "File \u001b[1;32mc:\\Users\\andre\\Documents\\Materias\\ICO\\Fil-Rouge-ICO-2024\\multi_agent\\GeneticAgent.py:145\u001b[0m, in \u001b[0;36mGeneticAgent.next_step\u001b[1;34m(self)\u001b[0m\n\u001b[0;32m    143\u001b[0m i:\u001b[38;5;28mint\u001b[39m \u001b[38;5;241m=\u001b[39m \u001b[38;5;241m0\u001b[39m\n\u001b[0;32m    144\u001b[0m \u001b[38;5;28;01mwhile\u001b[39;00m i \u001b[38;5;241m<\u001b[39m \u001b[38;5;28mself\u001b[39m\u001b[38;5;241m.\u001b[39mstepSize:\n\u001b[1;32m--> 145\u001b[0m     \u001b[38;5;28;43mself\u001b[39;49m\u001b[38;5;241;43m.\u001b[39;49m\u001b[43mnextGen\u001b[49m\u001b[43m(\u001b[49m\u001b[43mmutation_rate\u001b[49m\u001b[38;5;241;43m=\u001b[39;49m\u001b[38;5;28;43mself\u001b[39;49m\u001b[38;5;241;43m.\u001b[39;49m\u001b[43mmutation_rate\u001b[49m\u001b[43m)\u001b[49m\n\u001b[0;32m    146\u001b[0m     i \u001b[38;5;241m+\u001b[39m\u001b[38;5;241m=\u001b[39m \u001b[38;5;241m1\u001b[39m\n",
      "File \u001b[1;32mc:\\Users\\andre\\Documents\\Materias\\ICO\\Fil-Rouge-ICO-2024\\multi_agent\\GeneticAgent.py:107\u001b[0m, in \u001b[0;36mGeneticAgent.nextGen\u001b[1;34m(self, mutation_rate)\u001b[0m\n\u001b[0;32m    101\u001b[0m \u001b[38;5;28;01mdef\u001b[39;00m \u001b[38;5;21mnextGen\u001b[39m(\u001b[38;5;28mself\u001b[39m, mutation_rate):\n\u001b[0;32m    102\u001b[0m     (\n\u001b[0;32m    103\u001b[0m         \u001b[38;5;28mself\u001b[39m\u001b[38;5;241m.\u001b[39mcurrent_best_solution,\n\u001b[0;32m    104\u001b[0m         \u001b[38;5;28mself\u001b[39m\u001b[38;5;241m.\u001b[39mcurrent_best_fitness,\n\u001b[0;32m    105\u001b[0m         \u001b[38;5;28mself\u001b[39m\u001b[38;5;241m.\u001b[39mhistory,\n\u001b[0;32m    106\u001b[0m         \u001b[38;5;28mself\u001b[39m\u001b[38;5;241m.\u001b[39mpopulation,\n\u001b[1;32m--> 107\u001b[0m     ) \u001b[38;5;241m=\u001b[39m \u001b[43mgenetic_algorithm\u001b[49m\u001b[43m(\u001b[49m\n\u001b[0;32m    108\u001b[0m \u001b[43m        \u001b[49m\u001b[38;5;28;43mself\u001b[39;49m\u001b[38;5;241;43m.\u001b[39;49m\u001b[43mpopulationSize\u001b[49m\u001b[43m,\u001b[49m\n\u001b[0;32m    109\u001b[0m \u001b[43m        \u001b[49m\u001b[38;5;28;43mself\u001b[39;49m\u001b[38;5;241;43m.\u001b[39;49m\u001b[43mnumberOfTrucks\u001b[49m\u001b[43m,\u001b[49m\n\u001b[0;32m    110\u001b[0m \u001b[43m        \u001b[49m\u001b[38;5;28;43mself\u001b[39;49m\u001b[38;5;241;43m.\u001b[39;49m\u001b[43mtruckCapacityKg\u001b[49m\u001b[43m,\u001b[49m\n\u001b[0;32m    111\u001b[0m \u001b[43m        \u001b[49m\u001b[38;5;28;43mself\u001b[39;49m\u001b[38;5;241;43m.\u001b[39;49m\u001b[43mtruckCapacityVol\u001b[49m\u001b[43m,\u001b[49m\n\u001b[0;32m    112\u001b[0m \u001b[43m        \u001b[49m\u001b[38;5;28;43mself\u001b[39;49m\u001b[38;5;241;43m.\u001b[39;49m\u001b[43mcustomersId\u001b[49m\u001b[43m,\u001b[49m\n\u001b[0;32m    113\u001b[0m \u001b[43m        \u001b[49m\u001b[38;5;28;43mself\u001b[39;49m\u001b[38;5;241;43m.\u001b[39;49m\u001b[43mcost\u001b[49m\u001b[43m,\u001b[49m\n\u001b[0;32m    114\u001b[0m \u001b[43m        \u001b[49m\u001b[38;5;28;43mself\u001b[39;49m\u001b[38;5;241;43m.\u001b[39;49m\u001b[43mdemandForCustomer\u001b[49m\u001b[43m,\u001b[49m\n\u001b[0;32m    115\u001b[0m \u001b[43m        \u001b[49m\u001b[38;5;28;43mself\u001b[39;49m\u001b[38;5;241;43m.\u001b[39;49m\u001b[43mstepSize\u001b[49m\u001b[43m,\u001b[49m\n\u001b[0;32m    116\u001b[0m \u001b[43m        \u001b[49m\u001b[43mmutationRate\u001b[49m\u001b[38;5;241;43m=\u001b[39;49m\u001b[43mmutation_rate\u001b[49m\u001b[43m,\u001b[49m\n\u001b[0;32m    117\u001b[0m \u001b[43m        \u001b[49m\u001b[43mpopulation\u001b[49m\u001b[38;5;241;43m=\u001b[39;49m\u001b[38;5;28;43mself\u001b[39;49m\u001b[38;5;241;43m.\u001b[39;49m\u001b[43mpopulation\u001b[49m\u001b[43m,\u001b[49m\n\u001b[0;32m    118\u001b[0m \u001b[43m        \u001b[49m\u001b[43mq\u001b[49m\u001b[38;5;241;43m=\u001b[39;49m\u001b[38;5;28;43mself\u001b[39;49m\u001b[38;5;241;43m.\u001b[39;49m\u001b[43mq\u001b[49m\u001b[43m,\u001b[49m\n\u001b[0;32m    119\u001b[0m \u001b[43m        \u001b[49m\u001b[43mneighbor_function_list\u001b[49m\u001b[38;5;241;43m=\u001b[39;49m\u001b[38;5;28;43mself\u001b[39;49m\u001b[38;5;241;43m.\u001b[39;49m\u001b[43mneighbor_function_list\u001b[49m\u001b[43m,\u001b[49m\n\u001b[0;32m    120\u001b[0m \u001b[43m        \u001b[49m\u001b[43meval_function\u001b[49m\u001b[38;5;241;43m=\u001b[39;49m\u001b[38;5;28;43mself\u001b[39;49m\u001b[38;5;241;43m.\u001b[39;49m\u001b[43meval_function\u001b[49m\u001b[43m,\u001b[49m\n\u001b[0;32m    121\u001b[0m \u001b[43m    \u001b[49m\u001b[43m)\u001b[49m\n\u001b[0;32m    122\u001b[0m     \u001b[38;5;28mself\u001b[39m\u001b[38;5;241m.\u001b[39mlabel \u001b[38;5;241m=\u001b[39m \u001b[38;5;124m'\u001b[39m\u001b[38;5;124mgenetic algorithm\u001b[39m\u001b[38;5;124m'\u001b[39m\n\u001b[0;32m    123\u001b[0m     \u001b[38;5;66;03m# if self.generations > 0:\u001b[39;00m\n\u001b[0;32m    124\u001b[0m \n\u001b[0;32m    125\u001b[0m     \u001b[38;5;66;03m# If found better solution, update the corresponding attributes\u001b[39;00m\n",
      "File \u001b[1;32mc:\\Users\\andre\\Documents\\Materias\\ICO\\Fil-Rouge-ICO-2024\\multi_agent\\genetic_algorithm\\geneticAlgorithm.py:253\u001b[0m, in \u001b[0;36mgenetic_algorithm\u001b[1;34m(populationSize, numberOfTrucks, truckCapacityKg, truckCapacityVol, customersId, cost, demandForCustomer, q_learning, q_learning_mutation, maxGenNumber, mutationRate, population, verbose, q, neighbor_function_list, eval_function)\u001b[0m\n\u001b[0;32m    250\u001b[0m fitness_heap \u001b[38;5;241m=\u001b[39m []\n\u001b[0;32m    252\u001b[0m \u001b[38;5;66;03m# calculate fitness function\u001b[39;00m\n\u001b[1;32m--> 253\u001b[0m fitnesses \u001b[38;5;241m=\u001b[39m \u001b[43m[\u001b[49m\u001b[43mfitnessFunction\u001b[49m\u001b[43m(\u001b[49m\u001b[43msol\u001b[49m\u001b[43m,\u001b[49m\u001b[43m \u001b[49m\u001b[43mcost\u001b[49m\u001b[43m)\u001b[49m\u001b[43m \u001b[49m\u001b[38;5;28;43;01mfor\u001b[39;49;00m\u001b[43m \u001b[49m\u001b[43msol\u001b[49m\u001b[43m \u001b[49m\u001b[38;5;129;43;01min\u001b[39;49;00m\u001b[43m \u001b[49m\u001b[43mpopulation\u001b[49m\u001b[43m]\u001b[49m\n\u001b[0;32m    255\u001b[0m \u001b[38;5;66;03m# Calculate 'winners' after selection via tournament\u001b[39;00m\n\u001b[0;32m    256\u001b[0m winners \u001b[38;5;241m=\u001b[39m _tournamentSelection(population, \u001b[38;5;241m2\u001b[39m, \u001b[38;5;28mlen\u001b[39m(population), fitnesses)\n",
      "File \u001b[1;32mc:\\Users\\andre\\Documents\\Materias\\ICO\\Fil-Rouge-ICO-2024\\multi_agent\\genetic_algorithm\\geneticAlgorithm.py:253\u001b[0m, in \u001b[0;36m<listcomp>\u001b[1;34m(.0)\u001b[0m\n\u001b[0;32m    250\u001b[0m fitness_heap \u001b[38;5;241m=\u001b[39m []\n\u001b[0;32m    252\u001b[0m \u001b[38;5;66;03m# calculate fitness function\u001b[39;00m\n\u001b[1;32m--> 253\u001b[0m fitnesses \u001b[38;5;241m=\u001b[39m [\u001b[43mfitnessFunction\u001b[49m\u001b[43m(\u001b[49m\u001b[43msol\u001b[49m\u001b[43m,\u001b[49m\u001b[43m \u001b[49m\u001b[43mcost\u001b[49m\u001b[43m)\u001b[49m \u001b[38;5;28;01mfor\u001b[39;00m sol \u001b[38;5;129;01min\u001b[39;00m population]\n\u001b[0;32m    255\u001b[0m \u001b[38;5;66;03m# Calculate 'winners' after selection via tournament\u001b[39;00m\n\u001b[0;32m    256\u001b[0m winners \u001b[38;5;241m=\u001b[39m _tournamentSelection(population, \u001b[38;5;241m2\u001b[39m, \u001b[38;5;28mlen\u001b[39m(population), fitnesses)\n",
      "File \u001b[1;32mc:\\Users\\andre\\Documents\\Materias\\ICO\\Fil-Rouge-ICO-2024\\multi_agent\\genetic_algorithm\\utils\\helperFunctions.py:31\u001b[0m, in \u001b[0;36mfitnessFunction\u001b[1;34m(solution, cost)\u001b[0m\n\u001b[0;32m     29\u001b[0m     \u001b[38;5;28;01mif\u001b[39;00m route \u001b[38;5;241m==\u001b[39m [\u001b[38;5;241m0\u001b[39m, \u001b[38;5;241m0\u001b[39m]:\n\u001b[0;32m     30\u001b[0m         \u001b[38;5;28;01mcontinue\u001b[39;00m\n\u001b[1;32m---> 31\u001b[0m     totalCost \u001b[38;5;241m+\u001b[39m\u001b[38;5;241m=\u001b[39m \u001b[43mcalculate_route_cost\u001b[49m\u001b[43m(\u001b[49m\u001b[43mroute\u001b[49m\u001b[43m,\u001b[49m\u001b[43m \u001b[49m\u001b[43mcost\u001b[49m\u001b[43m)\u001b[49m\n\u001b[0;32m     32\u001b[0m \u001b[38;5;28;01mreturn\u001b[39;00m totalCost\n",
      "File \u001b[1;32mc:\\Users\\andre\\Documents\\Materias\\ICO\\Fil-Rouge-ICO-2024\\multi_agent\\genetic_algorithm\\utils\\helperFunctions.py:21\u001b[0m, in \u001b[0;36mcalculate_route_cost\u001b[1;34m(route, cost)\u001b[0m\n\u001b[0;32m     19\u001b[0m \u001b[38;5;28;01mfor\u001b[39;00m i \u001b[38;5;129;01min\u001b[39;00m \u001b[38;5;28mrange\u001b[39m(\u001b[38;5;28mlen\u001b[39m(route) \u001b[38;5;241m-\u001b[39m \u001b[38;5;241m1\u001b[39m):\n\u001b[0;32m     20\u001b[0m     edge \u001b[38;5;241m=\u001b[39m (route[i], route[i \u001b[38;5;241m+\u001b[39m \u001b[38;5;241m1\u001b[39m])\n\u001b[1;32m---> 21\u001b[0m     totalCost \u001b[38;5;241m+\u001b[39m\u001b[38;5;241m=\u001b[39m \u001b[43mcost\u001b[49m\u001b[43m[\u001b[49m\u001b[43medge\u001b[49m\u001b[43m]\u001b[49m\n\u001b[0;32m     22\u001b[0m \u001b[38;5;28;01mreturn\u001b[39;00m totalCost\n",
      "\u001b[1;31mKeyError\u001b[0m: (0, 104)"
     ]
    }
   ],
   "source": [
    "for _ in range(2):\n",
    "    sol_model.step()"
   ]
  },
  {
   "cell_type": "code",
   "execution_count": null,
   "metadata": {},
   "outputs": [],
   "source": [
    "sol_states = sol_model.datacollector.get_model_vars_dataframe()\n",
    "print(sol_states)"
   ]
  },
  {
   "cell_type": "code",
   "execution_count": null,
   "metadata": {},
   "outputs": [],
   "source": [
    "agent_sol_states = sol_model.datacollector.get_agent_vars_dataframe()\n",
    "print(agent_sol_states)"
   ]
  },
  {
   "cell_type": "code",
   "execution_count": null,
   "metadata": {},
   "outputs": [],
   "source": [
    "agent_state = sol_model.datacollector.get_agent_vars_dataframe()\n",
    "print(agent_state)\n",
    "res = agent_state.unstack()\n",
    "print(res)"
   ]
  },
  {
   "cell_type": "code",
   "execution_count": 15,
   "metadata": {},
   "outputs": [
    {
     "data": {
      "text/plain": [
       "(0, 0, 0, 1)"
      ]
     },
     "execution_count": 15,
     "metadata": {},
     "output_type": "execute_result"
    }
   ],
   "source": [
    "(0,0)+(0,1)"
   ]
  },
  {
   "cell_type": "code",
   "execution_count": null,
   "metadata": {},
   "outputs": [],
   "source": [
    "for _ in range(100):\n",
    "    sol_model.step()\n",
    "    for sol in sol_model.solution_pool.pool:\n",
    "        print(sol.get_best_sol())"
   ]
  }
 ],
 "metadata": {
  "kernelspec": {
   "display_name": "base",
   "language": "python",
   "name": "python3"
  },
  "language_info": {
   "codemirror_mode": {
    "name": "ipython",
    "version": 3
   },
   "file_extension": ".py",
   "mimetype": "text/x-python",
   "name": "python",
   "nbconvert_exporter": "python",
   "pygments_lexer": "ipython3",
   "version": "3.11.5"
  }
 },
 "nbformat": 4,
 "nbformat_minor": 2
}
